{
  "nbformat": 4,
  "nbformat_minor": 0,
  "metadata": {
    "colab": {
      "name": "Part-A-Model Training and Performance Evaluation.ipynb",
      "provenance": [],
      "collapsed_sections": []
    },
    "kernelspec": {
      "name": "python3",
      "display_name": "Python 3"
    }
  },
  "cells": [
    {
      "cell_type": "markdown",
      "metadata": {
        "id": "WTVY5lz4vJQM"
      },
      "source": [
        "# **Model Training and Performance Evaluation**\n"
      ]
    },
    {
      "cell_type": "markdown",
      "metadata": {
        "id": "NOq598WCqIol"
      },
      "source": [
        "## **1. Loading Data:**\n"
      ]
    },
    {
      "cell_type": "code",
      "metadata": {
        "id": "C297HhYulXcb"
      },
      "source": [
        "#importing basic packages\n",
        "import pandas as pd\n",
        "import numpy as np\n",
        "import seaborn as sns\n",
        "import matplotlib.pyplot as plt"
      ],
      "execution_count": 568,
      "outputs": []
    },
    {
      "cell_type": "code",
      "metadata": {
        "id": "fVPglpaf4REa",
        "colab": {
          "base_uri": "https://localhost:8080/",
          "height": 215
        },
        "outputId": "4c5e4bf6-b0e5-4454-d89f-8e6074e7fb4e"
      },
      "source": [
        "#Loading the data\n",
        "data0 = pd.read_csv('5.urldata.csv')\n",
        "data0.head()"
      ],
      "execution_count": 569,
      "outputs": [
        {
          "output_type": "execute_result",
          "data": {
            "text/html": [
              "<div>\n",
              "<style scoped>\n",
              "    .dataframe tbody tr th:only-of-type {\n",
              "        vertical-align: middle;\n",
              "    }\n",
              "\n",
              "    .dataframe tbody tr th {\n",
              "        vertical-align: top;\n",
              "    }\n",
              "\n",
              "    .dataframe thead th {\n",
              "        text-align: right;\n",
              "    }\n",
              "</style>\n",
              "<table border=\"1\" class=\"dataframe\">\n",
              "  <thead>\n",
              "    <tr style=\"text-align: right;\">\n",
              "      <th></th>\n",
              "      <th>Domain</th>\n",
              "      <th>Have_IP</th>\n",
              "      <th>Have_At</th>\n",
              "      <th>URL_Length</th>\n",
              "      <th>URL_Depth</th>\n",
              "      <th>Redirection</th>\n",
              "      <th>https_Domain</th>\n",
              "      <th>TinyURL</th>\n",
              "      <th>Prefix/Suffix</th>\n",
              "      <th>DNS_Record</th>\n",
              "      <th>Web_Traffic</th>\n",
              "      <th>Domain_Age</th>\n",
              "      <th>Domain_End</th>\n",
              "      <th>iFrame</th>\n",
              "      <th>Mouse_Over</th>\n",
              "      <th>Right_Click</th>\n",
              "      <th>Web_Forwards</th>\n",
              "      <th>Label</th>\n",
              "    </tr>\n",
              "  </thead>\n",
              "  <tbody>\n",
              "    <tr>\n",
              "      <th>0</th>\n",
              "      <td>graphicriver.net</td>\n",
              "      <td>0</td>\n",
              "      <td>0</td>\n",
              "      <td>1</td>\n",
              "      <td>1</td>\n",
              "      <td>0</td>\n",
              "      <td>0</td>\n",
              "      <td>0</td>\n",
              "      <td>0</td>\n",
              "      <td>0</td>\n",
              "      <td>1</td>\n",
              "      <td>1</td>\n",
              "      <td>1</td>\n",
              "      <td>0</td>\n",
              "      <td>0</td>\n",
              "      <td>1</td>\n",
              "      <td>0</td>\n",
              "      <td>0</td>\n",
              "    </tr>\n",
              "    <tr>\n",
              "      <th>1</th>\n",
              "      <td>ecnavi.jp</td>\n",
              "      <td>0</td>\n",
              "      <td>0</td>\n",
              "      <td>1</td>\n",
              "      <td>1</td>\n",
              "      <td>1</td>\n",
              "      <td>0</td>\n",
              "      <td>0</td>\n",
              "      <td>0</td>\n",
              "      <td>0</td>\n",
              "      <td>1</td>\n",
              "      <td>1</td>\n",
              "      <td>1</td>\n",
              "      <td>0</td>\n",
              "      <td>0</td>\n",
              "      <td>1</td>\n",
              "      <td>0</td>\n",
              "      <td>0</td>\n",
              "    </tr>\n",
              "    <tr>\n",
              "      <th>2</th>\n",
              "      <td>hubpages.com</td>\n",
              "      <td>0</td>\n",
              "      <td>0</td>\n",
              "      <td>1</td>\n",
              "      <td>1</td>\n",
              "      <td>0</td>\n",
              "      <td>0</td>\n",
              "      <td>0</td>\n",
              "      <td>0</td>\n",
              "      <td>0</td>\n",
              "      <td>1</td>\n",
              "      <td>0</td>\n",
              "      <td>1</td>\n",
              "      <td>0</td>\n",
              "      <td>0</td>\n",
              "      <td>1</td>\n",
              "      <td>0</td>\n",
              "      <td>0</td>\n",
              "    </tr>\n",
              "    <tr>\n",
              "      <th>3</th>\n",
              "      <td>extratorrent.cc</td>\n",
              "      <td>0</td>\n",
              "      <td>0</td>\n",
              "      <td>1</td>\n",
              "      <td>3</td>\n",
              "      <td>0</td>\n",
              "      <td>0</td>\n",
              "      <td>0</td>\n",
              "      <td>0</td>\n",
              "      <td>0</td>\n",
              "      <td>1</td>\n",
              "      <td>0</td>\n",
              "      <td>1</td>\n",
              "      <td>0</td>\n",
              "      <td>0</td>\n",
              "      <td>1</td>\n",
              "      <td>0</td>\n",
              "      <td>0</td>\n",
              "    </tr>\n",
              "    <tr>\n",
              "      <th>4</th>\n",
              "      <td>icicibank.com</td>\n",
              "      <td>0</td>\n",
              "      <td>0</td>\n",
              "      <td>1</td>\n",
              "      <td>3</td>\n",
              "      <td>0</td>\n",
              "      <td>0</td>\n",
              "      <td>0</td>\n",
              "      <td>0</td>\n",
              "      <td>0</td>\n",
              "      <td>1</td>\n",
              "      <td>0</td>\n",
              "      <td>1</td>\n",
              "      <td>0</td>\n",
              "      <td>0</td>\n",
              "      <td>1</td>\n",
              "      <td>0</td>\n",
              "      <td>0</td>\n",
              "    </tr>\n",
              "  </tbody>\n",
              "</table>\n",
              "</div>"
            ],
            "text/plain": [
              "             Domain  Have_IP  Have_At  ...  Right_Click  Web_Forwards  Label\n",
              "0  graphicriver.net        0        0  ...            1             0      0\n",
              "1         ecnavi.jp        0        0  ...            1             0      0\n",
              "2      hubpages.com        0        0  ...            1             0      0\n",
              "3   extratorrent.cc        0        0  ...            1             0      0\n",
              "4     icicibank.com        0        0  ...            1             0      0\n",
              "\n",
              "[5 rows x 18 columns]"
            ]
          },
          "metadata": {
            "tags": []
          },
          "execution_count": 569
        }
      ]
    },
    {
      "cell_type": "code",
      "metadata": {
        "id": "Q3uBm9ObMyaG",
        "colab": {
          "base_uri": "https://localhost:8080/"
        },
        "outputId": "b7b7c22a-f86f-4a08-ce65-be93ae033ab5"
      },
      "source": [
        "#Listing the features of the dataset\n",
        "data0.columns"
      ],
      "execution_count": 570,
      "outputs": [
        {
          "output_type": "execute_result",
          "data": {
            "text/plain": [
              "Index(['Domain', 'Have_IP', 'Have_At', 'URL_Length', 'URL_Depth',\n",
              "       'Redirection', 'https_Domain', 'TinyURL', 'Prefix/Suffix', 'DNS_Record',\n",
              "       'Web_Traffic', 'Domain_Age', 'Domain_End', 'iFrame', 'Mouse_Over',\n",
              "       'Right_Click', 'Web_Forwards', 'Label'],\n",
              "      dtype='object')"
            ]
          },
          "metadata": {
            "tags": []
          },
          "execution_count": 570
        }
      ]
    },
    {
      "cell_type": "markdown",
      "metadata": {
        "id": "9cbVPMe8NxFN"
      },
      "source": [
        "## **2. Data Preprocessing & EDA**\n",
        "Here, we clean the data by applying data preprocesssing techniques and transform the data to use it in the models."
      ]
    },
    {
      "cell_type": "code",
      "metadata": {
        "id": "b_HKPelgnmf8",
        "colab": {
          "base_uri": "https://localhost:8080/",
          "height": 304
        },
        "outputId": "6e882d02-a70a-4960-f760-82670b2e7736"
      },
      "source": [
        "##describe() is used to view statistical details\n",
        "data0.describe()"
      ],
      "execution_count": 571,
      "outputs": [
        {
          "output_type": "execute_result",
          "data": {
            "text/html": [
              "<div>\n",
              "<style scoped>\n",
              "    .dataframe tbody tr th:only-of-type {\n",
              "        vertical-align: middle;\n",
              "    }\n",
              "\n",
              "    .dataframe tbody tr th {\n",
              "        vertical-align: top;\n",
              "    }\n",
              "\n",
              "    .dataframe thead th {\n",
              "        text-align: right;\n",
              "    }\n",
              "</style>\n",
              "<table border=\"1\" class=\"dataframe\">\n",
              "  <thead>\n",
              "    <tr style=\"text-align: right;\">\n",
              "      <th></th>\n",
              "      <th>Have_IP</th>\n",
              "      <th>Have_At</th>\n",
              "      <th>URL_Length</th>\n",
              "      <th>URL_Depth</th>\n",
              "      <th>Redirection</th>\n",
              "      <th>https_Domain</th>\n",
              "      <th>TinyURL</th>\n",
              "      <th>Prefix/Suffix</th>\n",
              "      <th>DNS_Record</th>\n",
              "      <th>Web_Traffic</th>\n",
              "      <th>Domain_Age</th>\n",
              "      <th>Domain_End</th>\n",
              "      <th>iFrame</th>\n",
              "      <th>Mouse_Over</th>\n",
              "      <th>Right_Click</th>\n",
              "      <th>Web_Forwards</th>\n",
              "      <th>Label</th>\n",
              "    </tr>\n",
              "  </thead>\n",
              "  <tbody>\n",
              "    <tr>\n",
              "      <th>count</th>\n",
              "      <td>10000.000000</td>\n",
              "      <td>10000.000000</td>\n",
              "      <td>10000.000000</td>\n",
              "      <td>10000.000000</td>\n",
              "      <td>10000.000000</td>\n",
              "      <td>10000.000000</td>\n",
              "      <td>10000.000000</td>\n",
              "      <td>10000.000000</td>\n",
              "      <td>10000.000000</td>\n",
              "      <td>10000.000000</td>\n",
              "      <td>10000.000000</td>\n",
              "      <td>10000.0000</td>\n",
              "      <td>10000.000000</td>\n",
              "      <td>10000.00000</td>\n",
              "      <td>10000.00000</td>\n",
              "      <td>10000.000000</td>\n",
              "      <td>10000.000000</td>\n",
              "    </tr>\n",
              "    <tr>\n",
              "      <th>mean</th>\n",
              "      <td>0.005500</td>\n",
              "      <td>0.022600</td>\n",
              "      <td>0.773400</td>\n",
              "      <td>3.072000</td>\n",
              "      <td>0.013500</td>\n",
              "      <td>0.000200</td>\n",
              "      <td>0.090300</td>\n",
              "      <td>0.093200</td>\n",
              "      <td>0.100800</td>\n",
              "      <td>0.845700</td>\n",
              "      <td>0.413700</td>\n",
              "      <td>0.8099</td>\n",
              "      <td>0.090900</td>\n",
              "      <td>0.06660</td>\n",
              "      <td>0.99930</td>\n",
              "      <td>0.105300</td>\n",
              "      <td>0.500000</td>\n",
              "    </tr>\n",
              "    <tr>\n",
              "      <th>std</th>\n",
              "      <td>0.073961</td>\n",
              "      <td>0.148632</td>\n",
              "      <td>0.418653</td>\n",
              "      <td>2.128631</td>\n",
              "      <td>0.115408</td>\n",
              "      <td>0.014141</td>\n",
              "      <td>0.286625</td>\n",
              "      <td>0.290727</td>\n",
              "      <td>0.301079</td>\n",
              "      <td>0.361254</td>\n",
              "      <td>0.492521</td>\n",
              "      <td>0.3924</td>\n",
              "      <td>0.287481</td>\n",
              "      <td>0.24934</td>\n",
              "      <td>0.02645</td>\n",
              "      <td>0.306955</td>\n",
              "      <td>0.500025</td>\n",
              "    </tr>\n",
              "    <tr>\n",
              "      <th>min</th>\n",
              "      <td>0.000000</td>\n",
              "      <td>0.000000</td>\n",
              "      <td>0.000000</td>\n",
              "      <td>0.000000</td>\n",
              "      <td>0.000000</td>\n",
              "      <td>0.000000</td>\n",
              "      <td>0.000000</td>\n",
              "      <td>0.000000</td>\n",
              "      <td>0.000000</td>\n",
              "      <td>0.000000</td>\n",
              "      <td>0.000000</td>\n",
              "      <td>0.0000</td>\n",
              "      <td>0.000000</td>\n",
              "      <td>0.00000</td>\n",
              "      <td>0.00000</td>\n",
              "      <td>0.000000</td>\n",
              "      <td>0.000000</td>\n",
              "    </tr>\n",
              "    <tr>\n",
              "      <th>25%</th>\n",
              "      <td>0.000000</td>\n",
              "      <td>0.000000</td>\n",
              "      <td>1.000000</td>\n",
              "      <td>2.000000</td>\n",
              "      <td>0.000000</td>\n",
              "      <td>0.000000</td>\n",
              "      <td>0.000000</td>\n",
              "      <td>0.000000</td>\n",
              "      <td>0.000000</td>\n",
              "      <td>1.000000</td>\n",
              "      <td>0.000000</td>\n",
              "      <td>1.0000</td>\n",
              "      <td>0.000000</td>\n",
              "      <td>0.00000</td>\n",
              "      <td>1.00000</td>\n",
              "      <td>0.000000</td>\n",
              "      <td>0.000000</td>\n",
              "    </tr>\n",
              "    <tr>\n",
              "      <th>50%</th>\n",
              "      <td>0.000000</td>\n",
              "      <td>0.000000</td>\n",
              "      <td>1.000000</td>\n",
              "      <td>3.000000</td>\n",
              "      <td>0.000000</td>\n",
              "      <td>0.000000</td>\n",
              "      <td>0.000000</td>\n",
              "      <td>0.000000</td>\n",
              "      <td>0.000000</td>\n",
              "      <td>1.000000</td>\n",
              "      <td>0.000000</td>\n",
              "      <td>1.0000</td>\n",
              "      <td>0.000000</td>\n",
              "      <td>0.00000</td>\n",
              "      <td>1.00000</td>\n",
              "      <td>0.000000</td>\n",
              "      <td>0.500000</td>\n",
              "    </tr>\n",
              "    <tr>\n",
              "      <th>75%</th>\n",
              "      <td>0.000000</td>\n",
              "      <td>0.000000</td>\n",
              "      <td>1.000000</td>\n",
              "      <td>4.000000</td>\n",
              "      <td>0.000000</td>\n",
              "      <td>0.000000</td>\n",
              "      <td>0.000000</td>\n",
              "      <td>0.000000</td>\n",
              "      <td>0.000000</td>\n",
              "      <td>1.000000</td>\n",
              "      <td>1.000000</td>\n",
              "      <td>1.0000</td>\n",
              "      <td>0.000000</td>\n",
              "      <td>0.00000</td>\n",
              "      <td>1.00000</td>\n",
              "      <td>0.000000</td>\n",
              "      <td>1.000000</td>\n",
              "    </tr>\n",
              "    <tr>\n",
              "      <th>max</th>\n",
              "      <td>1.000000</td>\n",
              "      <td>1.000000</td>\n",
              "      <td>1.000000</td>\n",
              "      <td>20.000000</td>\n",
              "      <td>1.000000</td>\n",
              "      <td>1.000000</td>\n",
              "      <td>1.000000</td>\n",
              "      <td>1.000000</td>\n",
              "      <td>1.000000</td>\n",
              "      <td>1.000000</td>\n",
              "      <td>1.000000</td>\n",
              "      <td>1.0000</td>\n",
              "      <td>1.000000</td>\n",
              "      <td>1.00000</td>\n",
              "      <td>1.00000</td>\n",
              "      <td>1.000000</td>\n",
              "      <td>1.000000</td>\n",
              "    </tr>\n",
              "  </tbody>\n",
              "</table>\n",
              "</div>"
            ],
            "text/plain": [
              "            Have_IP       Have_At  ...  Web_Forwards         Label\n",
              "count  10000.000000  10000.000000  ...  10000.000000  10000.000000\n",
              "mean       0.005500      0.022600  ...      0.105300      0.500000\n",
              "std        0.073961      0.148632  ...      0.306955      0.500025\n",
              "min        0.000000      0.000000  ...      0.000000      0.000000\n",
              "25%        0.000000      0.000000  ...      0.000000      0.000000\n",
              "50%        0.000000      0.000000  ...      0.000000      0.500000\n",
              "75%        0.000000      0.000000  ...      0.000000      1.000000\n",
              "max        1.000000      1.000000  ...      1.000000      1.000000\n",
              "\n",
              "[8 rows x 17 columns]"
            ]
          },
          "metadata": {
            "tags": []
          },
          "execution_count": 571
        }
      ]
    },
    {
      "cell_type": "markdown",
      "metadata": {
        "id": "XBqTcpqen_fB"
      },
      "source": [
        "The above obtained result shows that the most of the data is made of 0's & 1's except 'Domain' & 'URL_Depth' columns. The Domain column doesnt have any significance to the machine learning model training. So dropping the *'Domain'* column from the dataset. "
      ]
    },
    {
      "cell_type": "code",
      "metadata": {
        "id": "tdpRw0Bcn_K1"
      },
      "source": [
        "#Dropping the Domain column\n",
        "data = data0.drop(['Domain'], axis = 1).copy()"
      ],
      "execution_count": 572,
      "outputs": []
    },
    {
      "cell_type": "markdown",
      "metadata": {
        "id": "5xo6cAqAqJOq"
      },
      "source": [
        "\n",
        "\n",
        "To even out the distribution while splitting the data into training & testing sets, we need to shuffle it. This even evades the case of overfitting while model training."
      ]
    },
    {
      "cell_type": "code",
      "metadata": {
        "id": "4LZnaoU_qBsz",
        "colab": {
          "base_uri": "https://localhost:8080/",
          "height": 215
        },
        "outputId": "ad079459-8760-4e34-a4b9-1cbe35b0ae03"
      },
      "source": [
        "# shuffling the rows in the dataset so that when splitting the train and test set are equally distributed\n",
        "data = data.sample(frac=1).reset_index(drop=True)\n",
        "data.head()"
      ],
      "execution_count": 573,
      "outputs": [
        {
          "output_type": "execute_result",
          "data": {
            "text/html": [
              "<div>\n",
              "<style scoped>\n",
              "    .dataframe tbody tr th:only-of-type {\n",
              "        vertical-align: middle;\n",
              "    }\n",
              "\n",
              "    .dataframe tbody tr th {\n",
              "        vertical-align: top;\n",
              "    }\n",
              "\n",
              "    .dataframe thead th {\n",
              "        text-align: right;\n",
              "    }\n",
              "</style>\n",
              "<table border=\"1\" class=\"dataframe\">\n",
              "  <thead>\n",
              "    <tr style=\"text-align: right;\">\n",
              "      <th></th>\n",
              "      <th>Have_IP</th>\n",
              "      <th>Have_At</th>\n",
              "      <th>URL_Length</th>\n",
              "      <th>URL_Depth</th>\n",
              "      <th>Redirection</th>\n",
              "      <th>https_Domain</th>\n",
              "      <th>TinyURL</th>\n",
              "      <th>Prefix/Suffix</th>\n",
              "      <th>DNS_Record</th>\n",
              "      <th>Web_Traffic</th>\n",
              "      <th>Domain_Age</th>\n",
              "      <th>Domain_End</th>\n",
              "      <th>iFrame</th>\n",
              "      <th>Mouse_Over</th>\n",
              "      <th>Right_Click</th>\n",
              "      <th>Web_Forwards</th>\n",
              "      <th>Label</th>\n",
              "    </tr>\n",
              "  </thead>\n",
              "  <tbody>\n",
              "    <tr>\n",
              "      <th>0</th>\n",
              "      <td>0</td>\n",
              "      <td>0</td>\n",
              "      <td>1</td>\n",
              "      <td>3</td>\n",
              "      <td>0</td>\n",
              "      <td>0</td>\n",
              "      <td>0</td>\n",
              "      <td>0</td>\n",
              "      <td>0</td>\n",
              "      <td>1</td>\n",
              "      <td>0</td>\n",
              "      <td>1</td>\n",
              "      <td>0</td>\n",
              "      <td>0</td>\n",
              "      <td>1</td>\n",
              "      <td>0</td>\n",
              "      <td>0</td>\n",
              "    </tr>\n",
              "    <tr>\n",
              "      <th>1</th>\n",
              "      <td>0</td>\n",
              "      <td>0</td>\n",
              "      <td>1</td>\n",
              "      <td>2</td>\n",
              "      <td>0</td>\n",
              "      <td>0</td>\n",
              "      <td>0</td>\n",
              "      <td>0</td>\n",
              "      <td>0</td>\n",
              "      <td>1</td>\n",
              "      <td>0</td>\n",
              "      <td>1</td>\n",
              "      <td>0</td>\n",
              "      <td>0</td>\n",
              "      <td>1</td>\n",
              "      <td>0</td>\n",
              "      <td>0</td>\n",
              "    </tr>\n",
              "    <tr>\n",
              "      <th>2</th>\n",
              "      <td>0</td>\n",
              "      <td>1</td>\n",
              "      <td>0</td>\n",
              "      <td>1</td>\n",
              "      <td>0</td>\n",
              "      <td>0</td>\n",
              "      <td>1</td>\n",
              "      <td>0</td>\n",
              "      <td>1</td>\n",
              "      <td>1</td>\n",
              "      <td>1</td>\n",
              "      <td>1</td>\n",
              "      <td>0</td>\n",
              "      <td>0</td>\n",
              "      <td>1</td>\n",
              "      <td>0</td>\n",
              "      <td>1</td>\n",
              "    </tr>\n",
              "    <tr>\n",
              "      <th>3</th>\n",
              "      <td>0</td>\n",
              "      <td>0</td>\n",
              "      <td>1</td>\n",
              "      <td>4</td>\n",
              "      <td>0</td>\n",
              "      <td>0</td>\n",
              "      <td>0</td>\n",
              "      <td>0</td>\n",
              "      <td>1</td>\n",
              "      <td>1</td>\n",
              "      <td>1</td>\n",
              "      <td>1</td>\n",
              "      <td>0</td>\n",
              "      <td>0</td>\n",
              "      <td>1</td>\n",
              "      <td>0</td>\n",
              "      <td>0</td>\n",
              "    </tr>\n",
              "    <tr>\n",
              "      <th>4</th>\n",
              "      <td>0</td>\n",
              "      <td>0</td>\n",
              "      <td>1</td>\n",
              "      <td>2</td>\n",
              "      <td>0</td>\n",
              "      <td>0</td>\n",
              "      <td>0</td>\n",
              "      <td>0</td>\n",
              "      <td>1</td>\n",
              "      <td>1</td>\n",
              "      <td>1</td>\n",
              "      <td>1</td>\n",
              "      <td>0</td>\n",
              "      <td>0</td>\n",
              "      <td>1</td>\n",
              "      <td>0</td>\n",
              "      <td>0</td>\n",
              "    </tr>\n",
              "  </tbody>\n",
              "</table>\n",
              "</div>"
            ],
            "text/plain": [
              "   Have_IP  Have_At  URL_Length  ...  Right_Click  Web_Forwards  Label\n",
              "0        0        0           1  ...            1             0      0\n",
              "1        0        0           1  ...            1             0      0\n",
              "2        0        1           0  ...            1             0      1\n",
              "3        0        0           1  ...            1             0      0\n",
              "4        0        0           1  ...            1             0      0\n",
              "\n",
              "[5 rows x 17 columns]"
            ]
          },
          "metadata": {
            "tags": []
          },
          "execution_count": 573
        }
      ]
    },
    {
      "cell_type": "markdown",
      "metadata": {
        "id": "Fs5hu2UR4SIF"
      },
      "source": [
        "## **3. Splitting the Data**"
      ]
    },
    {
      "cell_type": "code",
      "metadata": {
        "id": "FzEU-wcLN8K7",
        "colab": {
          "base_uri": "https://localhost:8080/"
        },
        "outputId": "16d456a8-2ee0-4605-dc4c-fffe4bd199a3"
      },
      "source": [
        "# Sepratating & assigning features and target columns to X & y\n",
        "y = data['Label']\n",
        "X = data.drop('Label',axis=1)\n",
        "X.shape, y.shape"
      ],
      "execution_count": 574,
      "outputs": [
        {
          "output_type": "execute_result",
          "data": {
            "text/plain": [
              "((10000, 16), (10000,))"
            ]
          },
          "metadata": {
            "tags": []
          },
          "execution_count": 574
        }
      ]
    },
    {
      "cell_type": "code",
      "metadata": {
        "id": "84xKobSqAV3U",
        "colab": {
          "base_uri": "https://localhost:8080/"
        },
        "outputId": "a6577f17-9c33-47bc-c970-bc3fd2d0f48c"
      },
      "source": [
        "# Splitting the dataset into train and test sets: 80-20 split\n",
        "from sklearn.model_selection import train_test_split\n",
        "\n",
        "X_train, X_test, y_train, y_test = train_test_split(X, y, \n",
        "                                                    test_size = 0.2, random_state = 42)\n",
        "\n",
        "\n",
        "X_train.shape, X_test.shape"
      ],
      "execution_count": 575,
      "outputs": [
        {
          "output_type": "execute_result",
          "data": {
            "text/plain": [
              "((8000, 16), (2000, 16))"
            ]
          },
          "metadata": {
            "tags": []
          },
          "execution_count": 575
        }
      ]
    },
    {
      "cell_type": "code",
      "metadata": {
        "id": "Q-RfiTJxo0SE"
      },
      "source": [
        "from sklearn.model_selection import RepeatedKFold\n",
        "\n",
        "#rkf = RepeatedKFold(n_splits=5,n_repeats=10, random_state=None)\n",
        "#for train,test in rkf.split(X):\n",
        "#    print(\"%s %s\" % (train, test))\n"
      ],
      "execution_count": 576,
      "outputs": []
    },
    {
      "cell_type": "markdown",
      "metadata": {
        "id": "ah9B035xOjs1"
      },
      "source": [
        "## **4. Machine Learning Models & Training**\n",
        "\n",
        "The supervised machine learning models (classification) considered to train the dataset are:\n",
        "* Decision Tree\n",
        "* Random Forest\n",
        "* Multilayer Perceptrons\n",
        "* XGBoost\n",
        "* AdaBoost\n",
        "* Gaussian Naive Bayes\n",
        "* Support Vector Machines\n"
      ]
    },
    {
      "cell_type": "code",
      "metadata": {
        "id": "D5Tg_ei0-xPU"
      },
      "source": [
        "#importing packages\n",
        "from sklearn.metrics import accuracy_score"
      ],
      "execution_count": 577,
      "outputs": []
    },
    {
      "cell_type": "code",
      "metadata": {
        "id": "DPBHdBikSXHv"
      },
      "source": [
        "# Creating holders to store the model performance results\n",
        "ML_Model = []\n",
        "acc_train = []\n",
        "acc_test = []\n",
        "\n",
        "#function to call for storing the results\n",
        "def storeResults(model, a,b):\n",
        "  ML_Model.append(model)\n",
        "  acc_train.append(round(a, 3))\n",
        "  acc_test.append(round(b, 3))"
      ],
      "execution_count": 578,
      "outputs": []
    },
    {
      "cell_type": "markdown",
      "metadata": {
        "id": "YOolxQWs-VbB"
      },
      "source": [
        "### **4.1. Decision Tree Classifier**\n",
        " Decision trees are widely used models for classification and regression tasks. Essentially, they learn a hierarchy of if/else questions, leading to a decision. Learning a decision tree means learning the sequence of if/else questions that gets us to the true answer most quickly.\n",
        " \n",
        "In the machine learning setting, these questions are called tests (not to be confused with the test set, which is the data we use to test to see how generalizable our model is). To build a tree, the algorithm searches over all possible tests and finds the one that is most informative about the target variable."
      ]
    },
    {
      "cell_type": "code",
      "metadata": {
        "id": "1kzsjtudy-0w",
        "colab": {
          "base_uri": "https://localhost:8080/"
        },
        "outputId": "c0aae8fa-898a-4922-e359-60f237265e90"
      },
      "source": [
        "# Decision Tree model \n",
        "import numpy as np\n",
        "\n",
        "import matplotlib.pyplot as plt\n",
        "\n",
        "from sklearn.tree import DecisionTreeClassifier\n",
        "#from sklearn.metrics import auc\n",
        "#from sklearn.metrics import plot_roc_curve\n",
        "#from sklearn.model_selection import StratifiedKFold\n",
        "\n",
        "# instantiate the model \n",
        "tree = DecisionTreeClassifier(min_impurity_decrease=0)\n",
        "\n",
        "#cv = StratifiedKFold(n_splits=6)\n",
        "#tprs = []\n",
        "#aucs = []\n",
        "#mean_fpr = np.linspace(0, 1, 100)\n",
        "\n",
        "\n",
        "#fig, ax = plt.subplots()\n",
        "#for i, (train, test) in enumerate(cv.split(X, y)):\n",
        "#    tree.fit(X_train, y_train)\n",
        "#    viz = plot_roc_curve(tree, X[test], y[test], name='ROC fold{}'.format(i), alpha=0.3, lw=1, ax=ax)\n",
        "#    interp_tpr = np.interp(mean_fpr, viz.fpr, viz.tpr)\n",
        "#    interp_tpr[0] = 0.0\n",
        "#    tprs.append(interp_tpr)\n",
        "#    aucs.append(viz.roc_auc)\n",
        "\n",
        "#ax.plot([0, 1], [0, 1], linestyle='--', lw=2, color='r',\n",
        "#        label='Chance', alpha=.8)\n",
        "\n",
        "#mean_tpr = np.mean(tprs, axis=0)\n",
        "#mean_tpr[-1] = 1.0\n",
        "#mean_auc = auc(mean_fpr, mean_tpr)\n",
        "#std_auc = np.std(aucs)\n",
        "#ax.plot(mean_fpr, mean_tpr, color='b',\n",
        "#        label=r'Mean ROC (AUC = %0.2f $\\pm$ %0.2f)' % (mean_auc, std_auc),\n",
        "#        lw=2, alpha=.8)\n",
        "\n",
        "#std_tpr = np.std(tprs, axis=0)\n",
        "#tprs_upper = np.minimum(mean_tpr + std_tpr, 1)\n",
        "#tprs_lower = np.maximum(mean_tpr - std_tpr, 0)\n",
        "#ax.fill_between(mean_fpr, tprs_lower, tprs_upper, color='grey', alpha=.2,\n",
        "#                label=r'$\\pm$ 1 std. dev.')\n",
        "\n",
        "#ax.set(xlim=[-0.05, 1.05], ylim=[-0.05, 1.05],\n",
        "#       title=\"Receiver operating characteristic example\")\n",
        "#ax.legend(loc=\"lower right\")\n",
        "#plt.show()\n",
        "\n",
        "#fit the model \n",
        "tree.fit(X_train, y_train)"
      ],
      "execution_count": 579,
      "outputs": [
        {
          "output_type": "execute_result",
          "data": {
            "text/plain": [
              "DecisionTreeClassifier(ccp_alpha=0.0, class_weight=None, criterion='gini',\n",
              "                       max_depth=None, max_features=None, max_leaf_nodes=None,\n",
              "                       min_impurity_decrease=0, min_impurity_split=None,\n",
              "                       min_samples_leaf=1, min_samples_split=2,\n",
              "                       min_weight_fraction_leaf=0.0, presort='deprecated',\n",
              "                       random_state=None, splitter='best')"
            ]
          },
          "metadata": {
            "tags": []
          },
          "execution_count": 579
        }
      ]
    },
    {
      "cell_type": "code",
      "metadata": {
        "id": "cpPk7O-MrTZi"
      },
      "source": [
        "#predicting the target value from the model for the samples\n",
        "y_test_tree = tree.predict(X_test)\n",
        "y_train_tree = tree.predict(X_train)"
      ],
      "execution_count": 580,
      "outputs": []
    },
    {
      "cell_type": "markdown",
      "metadata": {
        "id": "kLn-_qOuS_9Y"
      },
      "source": [
        "**Performance Evaluation:**"
      ]
    },
    {
      "cell_type": "code",
      "metadata": {
        "id": "X4wDTnFZrz3q",
        "colab": {
          "base_uri": "https://localhost:8080/"
        },
        "outputId": "8d319902-d81d-448f-81ee-f830850cda7b"
      },
      "source": [
        "#computing the accuracy of the model performance\n",
        "acc_train_tree = accuracy_score(y_train,y_train_tree)\n",
        "acc_test_tree = accuracy_score(y_test,y_test_tree)\n",
        "\n",
        "print(\"Decision Tree: Accuracy on training Data: {:.3f}\".format(acc_train_tree))\n",
        "print(\"Decision Tree: Accuracy on test Data: {:.3f}\".format(acc_test_tree))"
      ],
      "execution_count": 581,
      "outputs": [
        {
          "output_type": "stream",
          "text": [
            "Decision Tree: Accuracy on training Data: 0.869\n",
            "Decision Tree: Accuracy on test Data: 0.854\n"
          ],
          "name": "stdout"
        }
      ]
    },
    {
      "cell_type": "code",
      "metadata": {
        "id": "LITrJdVGWwTl",
        "colab": {
          "base_uri": "https://localhost:8080/",
          "height": 442
        },
        "outputId": "b1bce99b-e517-42a9-d3f6-df2b6c5b8cff"
      },
      "source": [
        "#checking the importance of each feature in the model\n",
        "plt.figure(figsize=(9,7))\n",
        "n_features = X_train.shape[1]\n",
        "plt.barh(range(n_features), tree.feature_importances_, align='center')\n",
        "plt.yticks(np.arange(n_features), X_train.columns)\n",
        "plt.xlabel(\"Feature importance\")\n",
        "plt.ylabel(\"Feature\")\n",
        "plt.show()"
      ],
      "execution_count": 582,
      "outputs": [
        {
          "output_type": "display_data",
          "data": {
            "image/png": "[encoded data removed]",
            "text/plain": [
              "<Figure size 648x504 with 1 Axes>"
            ]
          },
          "metadata": {
            "tags": [],
            "needs_background": "light"
          }
        }
      ]
    },
    {
      "cell_type": "markdown",
      "metadata": {
        "id": "XpC9PAn5RTfY"
      },
      "source": [
        "**Storing the results:**"
      ]
    },
    {
      "cell_type": "code",
      "metadata": {
        "id": "5XKvXxr9RSxl"
      },
      "source": [
        "#storing the results. \n",
        "storeResults('Decision Tree', acc_train_tree, acc_test_tree)"
      ],
      "execution_count": 583,
      "outputs": []
    },
    {
      "cell_type": "markdown",
      "metadata": {
        "id": "LuDTMcmb-n5x"
      },
      "source": [
        "### **4.2. Random Forest Classifier**\n",
        "Random forests for regression and classification are currently among the most widely used machine learning methods.A random forest is essentially a collection of decision trees, where each tree is slightly different from the others. The idea behind random forests is that each tree might do a relatively good job of predicting, but will likely overfit on part of the data.\n",
        "\n",
        "If we build many trees, all of which work well and overfit in different ways, we can reduce the amount of overfitting by averaging their results. To build a random forest model, you need to decide on the number of trees to build (the n_estimators parameter of RandomForestRegressor or RandomForestClassifier). They are very powerful, often work well without heavy tuning of the parameters, and don’t require scaling of the data."
      ]
    },
    {
      "cell_type": "code",
      "metadata": {
        "id": "2fmB9rPSsR6y",
        "colab": {
          "base_uri": "https://localhost:8080/"
        },
        "outputId": "36d1d124-9808-4c9f-870b-5e894fdde2fd"
      },
      "source": [
        "# Random Forest model\n",
        "from sklearn.ensemble import RandomForestClassifier\n",
        "\n",
        "# instantiate the model\n",
        "forest = RandomForestClassifier()\n",
        "\n",
        "# fit the model \n",
        "forest.fit(X_train, y_train)"
      ],
      "execution_count": 584,
      "outputs": [
        {
          "output_type": "execute_result",
          "data": {
            "text/plain": [
              "RandomForestClassifier(bootstrap=True, ccp_alpha=0.0, class_weight=None,\n",
              "                       criterion='gini', max_depth=None, max_features='auto',\n",
              "                       max_leaf_nodes=None, max_samples=None,\n",
              "                       min_impurity_decrease=0.0, min_impurity_split=None,\n",
              "                       min_samples_leaf=1, min_samples_split=2,\n",
              "                       min_weight_fraction_leaf=0.0, n_estimators=100,\n",
              "                       n_jobs=None, oob_score=False, random_state=None,\n",
              "                       verbose=0, warm_start=False)"
            ]
          },
          "metadata": {
            "tags": []
          },
          "execution_count": 584
        }
      ]
    },
    {
      "cell_type": "code",
      "metadata": {
        "id": "J1Qck-wrsabB"
      },
      "source": [
        "#predicting the target value from the model for the samples\n",
        "y_test_forest = forest.predict(X_test)\n",
        "y_train_forest = forest.predict(X_train)"
      ],
      "execution_count": 585,
      "outputs": []
    },
    {
      "cell_type": "markdown",
      "metadata": {
        "id": "i8TybBPHT1ao"
      },
      "source": [
        "**Performance Evaluation:**"
      ]
    },
    {
      "cell_type": "code",
      "metadata": {
        "id": "Oguf-37tsboO",
        "colab": {
          "base_uri": "https://localhost:8080/"
        },
        "outputId": "493d38d6-cfbd-400c-89dc-3259b2af7d2d"
      },
      "source": [
        "#computing the accuracy of the model performance\n",
        "acc_train_forest = accuracy_score(y_train,y_train_forest)\n",
        "acc_test_forest = accuracy_score(y_test,y_test_forest)\n",
        "\n",
        "print(\"Random forest: Accuracy on training Data: {:.3f}\".format(acc_train_forest))\n",
        "print(\"Random forest: Accuracy on test Data: {:.3f}\".format(acc_test_forest))"
      ],
      "execution_count": 586,
      "outputs": [
        {
          "output_type": "stream",
          "text": [
            "Random forest: Accuracy on training Data: 0.869\n",
            "Random forest: Accuracy on test Data: 0.853\n"
          ],
          "name": "stdout"
        }
      ]
    },
    {
      "cell_type": "code",
      "metadata": {
        "id": "m9GZGxvZ9jnB",
        "colab": {
          "base_uri": "https://localhost:8080/",
          "height": 442
        },
        "outputId": "28138486-c975-48d3-ee9c-4f16e5af0ab0"
      },
      "source": [
        "#checking the importance of each feature in the model\n",
        "plt.figure(figsize=(9,7))\n",
        "n_features = X_train.shape[1]\n",
        "plt.barh(range(n_features), forest.feature_importances_, align='center')\n",
        "plt.yticks(np.arange(n_features), X_train.columns)\n",
        "plt.xlabel(\"Feature importance\")\n",
        "plt.ylabel(\"Feature\")\n",
        "plt.show()"
      ],
      "execution_count": 587,
      "outputs": [
        {
          "output_type": "display_data",
          "data": {
            "image/png": "[encoded data removed]",
            "text/plain": [
              "<Figure size 648x504 with 1 Axes>"
            ]
          },
          "metadata": {
            "tags": [],
            "needs_background": "light"
          }
        }
      ]
    },
    {
      "cell_type": "markdown",
      "metadata": {
        "id": "t6U_BEF8W-FS"
      },
      "source": [
        "**Storing the results:**"
      ]
    },
    {
      "cell_type": "code",
      "metadata": {
        "id": "YNf4EXHUW-FU"
      },
      "source": [
        "#storing the results.\n",
        "storeResults('Random Forest', acc_train_forest, acc_test_forest)"
      ],
      "execution_count": 588,
      "outputs": []
    },
    {
      "cell_type": "markdown",
      "metadata": {
        "id": "VJ_EW8QUC0bn"
      },
      "source": [
        "### **4.3. Multilayer Perceptrons (MLPs): Deep Learning**\n",
        "Multilayer perceptrons (MLPs) are also known as (vanilla) feed-forward neural networks, or sometimes just neural networks. Multilayer perceptrons can be applied for both classification and regression problems.\n",
        "\n",
        "MLPs can be viewed as generalizations of linear models that perform multiple stages of processing to come to a decision."
      ]
    },
    {
      "cell_type": "code",
      "metadata": {
        "id": "JSFAbsgnAxqv",
        "colab": {
          "base_uri": "https://localhost:8080/"
        },
        "outputId": "98016213-90e3-429d-8440-e0eb90517cdf"
      },
      "source": [
        "# Multilayer Perceptrons model\n",
        "from sklearn.neural_network import MLPClassifier\n",
        "\n",
        "# instantiate the model\n",
        "mlp = MLPClassifier(alpha=0.001, hidden_layer_sizes=([100,100,100]),max_iter=900)\n",
        "\n",
        "# fit the model \n",
        "mlp.fit(X_train, y_train)\n",
        "\n",
        "#predicting the target value from the model for the samples\n",
        "y_test_mlp = mlp.predict(X_test)\n",
        "y_train_mlp = mlp.predict(X_train)\n",
        "\n",
        "#computing the accuracy of the model performance\n",
        "acc_train_mlp = accuracy_score(y_train,y_train_mlp)\n",
        "acc_test_mlp = accuracy_score(y_test,y_test_mlp)\n",
        "\n",
        "print(\"Multilayer Perceptrons: Accuracy on training Data: {:.3f}\".format(acc_train_mlp))\n",
        "print(\"Multilayer Perceptrons: Accuracy on test Data: {:.3f}\".format(acc_test_mlp))"
      ],
      "execution_count": 589,
      "outputs": [
        {
          "output_type": "stream",
          "text": [
            "Multilayer Perceptrons: Accuracy on training Data: 0.865\n",
            "Multilayer Perceptrons: Accuracy on test Data: 0.848\n"
          ],
          "name": "stdout"
        }
      ]
    },
    {
      "cell_type": "code",
      "metadata": {
        "id": "gyuSg6w_A4pN"
      },
      "source": [
        "#predicting the target value from the model for the samples\n",
        "y_test_mlp = mlp.predict(X_test)\n",
        "y_train_mlp = mlp.predict(X_train)"
      ],
      "execution_count": 590,
      "outputs": []
    },
    {
      "cell_type": "markdown",
      "metadata": {
        "id": "UlDx0rDXatCl"
      },
      "source": [
        "**Performance Evaluation:**"
      ]
    },
    {
      "cell_type": "code",
      "metadata": {
        "id": "z2ndgKQbA64_"
      },
      "source": [
        "#computing the accuracy of the model performance\n",
        "acc_train_mlp = accuracy_score(y_train,y_train_mlp)\n",
        "acc_test_mlp = accuracy_score(y_test,y_test_mlp)"
      ],
      "execution_count": 591,
      "outputs": []
    },
    {
      "cell_type": "markdown",
      "metadata": {
        "id": "eO9i41xeOo7B"
      },
      "source": [
        "**Feature Importance:**"
      ]
    },
    {
      "cell_type": "markdown",
      "metadata": {
        "id": "Cq_dq26POBWN"
      },
      "source": [
        "Multilayer Perceptron doesn't have feature importance and depends on complex co-adaptations of weights during the training phase instead of measuring and comparing quality of splits Or a perceptron from Scikit can be used, which is a single layer neural network."
      ]
    },
    {
      "cell_type": "markdown",
      "metadata": {
        "id": "zjBgfI64Xubd"
      },
      "source": [
        "**Storing the results:**"
      ]
    },
    {
      "cell_type": "code",
      "metadata": {
        "id": "N0fsq4yEXubk"
      },
      "source": [
        "#storing the results. \n",
        "storeResults('Multilayer Perceptrons', acc_train_mlp, acc_test_mlp)"
      ],
      "execution_count": 592,
      "outputs": []
    },
    {
      "cell_type": "markdown",
      "metadata": {
        "id": "lVuTty-KaS4c"
      },
      "source": [
        "### **4.4. XGBoost Classifier**\n",
        "XGBoost is one of the most popular machine learning algorithms these days. XGBoost stands for eXtreme Gradient Boosting. Regardless of the type of prediction task at hand; regression or classification. XGBoost is an implementation of gradient boosted decision trees designed for speed and performance."
      ]
    },
    {
      "cell_type": "code",
      "metadata": {
        "id": "oIIQGzxgAREc",
        "colab": {
          "base_uri": "https://localhost:8080/"
        },
        "outputId": "aa161a3e-fd22-4874-a354-c56530c60771"
      },
      "source": [
        "#XGBoost Classification model\n",
        "from xgboost import XGBClassifier\n",
        "\n",
        "# instantiate the model\n",
        "xgb = XGBClassifier(learning_rate=0.4, n_estimators=300, early_stopping_rounds=10)\n",
        "#fit the model\n",
        "xgb.fit(X_train, y_train)"
      ],
      "execution_count": 593,
      "outputs": [
        {
          "output_type": "execute_result",
          "data": {
            "text/plain": [
              "XGBClassifier(base_score=0.5, booster='gbtree', colsample_bylevel=1,\n",
              "              colsample_bynode=1, colsample_bytree=1, early_stopping_rounds=10,\n",
              "              gamma=0, learning_rate=0.4, max_delta_step=0, max_depth=3,\n",
              "              min_child_weight=1, missing=None, n_estimators=300, n_jobs=1,\n",
              "              nthread=None, objective='binary:logistic', random_state=0,\n",
              "              reg_alpha=0, reg_lambda=1, scale_pos_weight=1, seed=None,\n",
              "              silent=None, subsample=1, verbosity=1)"
            ]
          },
          "metadata": {
            "tags": []
          },
          "execution_count": 593
        }
      ]
    },
    {
      "cell_type": "code",
      "metadata": {
        "id": "_fx9xbzfAUO-"
      },
      "source": [
        "#predicting the target value from the model for the samples\n",
        "y_test_xgb = xgb.predict(X_test)\n",
        "y_train_xgb = xgb.predict(X_train)"
      ],
      "execution_count": 594,
      "outputs": []
    },
    {
      "cell_type": "markdown",
      "metadata": {
        "id": "7fwDvEDSO77Q"
      },
      "source": [
        "**Performance Evaluation:**"
      ]
    },
    {
      "cell_type": "code",
      "metadata": {
        "id": "x1NNeI-NaxCA",
        "colab": {
          "base_uri": "https://localhost:8080/"
        },
        "outputId": "a4bb6abe-09d0-4d0d-d46c-f87ce73c4ae7"
      },
      "source": [
        "#computing the accuracy of the model performance\n",
        "acc_train_xgb = accuracy_score(y_train,y_train_xgb)\n",
        "acc_test_xgb = accuracy_score(y_test,y_test_xgb)\n",
        "\n",
        "print(\"XGBoost: Accuracy on training Data: {:.3f}\".format(acc_train_xgb))\n",
        "print(\"XGBoost : Accuracy on test Data: {:.3f}\".format(acc_test_xgb))"
      ],
      "execution_count": 595,
      "outputs": [
        {
          "output_type": "stream",
          "text": [
            "XGBoost: Accuracy on training Data: 0.866\n",
            "XGBoost : Accuracy on test Data: 0.848\n"
          ],
          "name": "stdout"
        }
      ]
    },
    {
      "cell_type": "markdown",
      "metadata": {
        "id": "_g2HQNotaxCQ"
      },
      "source": [
        "**Storing the results:**"
      ]
    },
    {
      "cell_type": "code",
      "metadata": {
        "id": "sFNo8jskaxCS"
      },
      "source": [
        "#storing the results. \n",
        "storeResults('XGBoost', acc_train_xgb, acc_test_xgb)"
      ],
      "execution_count": 596,
      "outputs": []
    },
    {
      "cell_type": "markdown",
      "metadata": {
        "id": "0KJZJkjt_dsw"
      },
      "source": [
        "###  **4.5. AdaBoost Classifier**"
      ]
    },
    {
      "cell_type": "code",
      "metadata": {
        "id": "lSmOha_0-UXg"
      },
      "source": [
        "#XGBoost Classification model\n",
        "from sklearn.ensemble import AdaBoostClassifier\n",
        "from sklearn.tree import DecisionTreeClassifier\n",
        "hybrid_model_AB = AdaBoostClassifier(\n",
        "    DecisionTreeClassifier(max_depth=3),\n",
        "    n_estimators=10\n",
        ")\n",
        "hybrid_model_AB.fit(X_train, y_train)\n",
        "predicted_test_labels = hybrid_model_AB.predict(X_test)\n"
      ],
      "execution_count": 597,
      "outputs": []
    },
    {
      "cell_type": "code",
      "metadata": {
        "id": "1dB-TtqT-d8O"
      },
      "source": [
        "#predicting the target value from the model for the samples\n",
        "y_test_ab = hybrid_model_AB.predict(X_test)\n",
        "y_train_ab = hybrid_model_AB.predict(X_train)"
      ],
      "execution_count": 598,
      "outputs": []
    },
    {
      "cell_type": "code",
      "metadata": {
        "colab": {
          "base_uri": "https://localhost:8080/"
        },
        "id": "i4avzFoY-f5F",
        "outputId": "fc9082a1-d163-4b91-aa24-b44716a26b23"
      },
      "source": [
        "#computing the accuracy of the model performance\n",
        "acc_train_ab = accuracy_score(y_train,y_train_ab)\n",
        "acc_test_ab = accuracy_score(y_test,y_test_ab)\n",
        "\n",
        "print(\"AdaBoost: Accuracy on training Data: {:.3f}\".format(acc_train_ab))\n",
        "print(\"AdaBoost : Accuracy on test Data: {:.3f}\".format(acc_test_ab))"
      ],
      "execution_count": 599,
      "outputs": [
        {
          "output_type": "stream",
          "text": [
            "AdaBoost: Accuracy on training Data: 0.831\n",
            "AdaBoost : Accuracy on test Data: 0.817\n"
          ],
          "name": "stdout"
        }
      ]
    },
    {
      "cell_type": "code",
      "metadata": {
        "id": "OtetAmYk_68-"
      },
      "source": [
        "#storing the results. \n",
        "storeResults('AdaBoost', acc_train_ab, acc_test_ab)"
      ],
      "execution_count": 600,
      "outputs": []
    },
    {
      "cell_type": "markdown",
      "metadata": {
        "id": "LacDJpGmQpT7"
      },
      "source": [
        "### **4.6. Gaussian Naive Bayes Classifier**"
      ]
    },
    {
      "cell_type": "code",
      "metadata": {
        "colab": {
          "base_uri": "https://localhost:8080/"
        },
        "id": "TI7NpcbsQ6x1",
        "outputId": "083fa547-ef70-419d-e33b-5b2562e27218"
      },
      "source": [
        "#importing Naives Bayes Classifier model\n",
        "from sklearn.naive_bayes import GaussianNB\n",
        "\n",
        "#instantiate the model\n",
        "gnb = GaussianNB()\n",
        "\n",
        "#model fitting\n",
        "gnb.fit(X_train, y_train)"
      ],
      "execution_count": 601,
      "outputs": [
        {
          "output_type": "execute_result",
          "data": {
            "text/plain": [
              "GaussianNB(priors=None, var_smoothing=1e-09)"
            ]
          },
          "metadata": {
            "tags": []
          },
          "execution_count": 601
        }
      ]
    },
    {
      "cell_type": "code",
      "metadata": {
        "id": "7s_Q1ZRlWIsT"
      },
      "source": [
        "#predicting the target value from the model for the samples\n",
        "y_test_gnb = gnb.predict(X_test)\n",
        "y_train_gnb = gnb.predict(X_train)"
      ],
      "execution_count": 602,
      "outputs": []
    },
    {
      "cell_type": "markdown",
      "metadata": {
        "id": "9fsT9bSCWhnZ"
      },
      "source": [
        "**Performance Evaluation:**"
      ]
    },
    {
      "cell_type": "code",
      "metadata": {
        "colab": {
          "base_uri": "https://localhost:8080/"
        },
        "id": "SZmM0fO-WgAt",
        "outputId": "e94befa8-f7ba-4232-8fde-5c0246d387eb"
      },
      "source": [
        "#computing the accuracy of model\n",
        "acc_train_gnb = accuracy_score(y_train,y_train_gnb)\n",
        "acc_test_gnb = accuracy_score(y_test,y_test_gnb)\n",
        "\n",
        "print(\"Gaussian Naive Bayes : Accuracy on training Data: {:.3f}\".format(acc_train_gnb))\n",
        "print(\"Gaussian Naive Bayes : Accuracy on test Data: {:.3f}\".format(acc_test_gnb))"
      ],
      "execution_count": 603,
      "outputs": [
        {
          "output_type": "stream",
          "text": [
            "Gaussian Naive Bayes : Accuracy on training Data: 0.793\n",
            "Gaussian Naive Bayes : Accuracy on test Data: 0.788\n"
          ],
          "name": "stdout"
        }
      ]
    },
    {
      "cell_type": "markdown",
      "metadata": {
        "id": "ruLnu10-XWzz"
      },
      "source": [
        "**Storing the results:**"
      ]
    },
    {
      "cell_type": "code",
      "metadata": {
        "id": "FVUo8si9Xa9F"
      },
      "source": [
        "#storing the results. \n",
        "storeResults('Gaussian Naive Bayes', acc_train_gnb, acc_test_gnb)"
      ],
      "execution_count": 604,
      "outputs": []
    },
    {
      "cell_type": "markdown",
      "metadata": {
        "id": "plQeFh4fwB3a"
      },
      "source": [
        "### **4.7. Support Vector Machines**\n",
        "\n",
        "In machine learning, support-vector machines (SVMs, also support-vector networks) are supervised learning models with associated learning algorithms that analyze data used for classification and regression analysis. Given a set of training examples, each marked as belonging to one or the other of two categories, an SVM training algorithm builds a model that assigns new examples to one category or the other, making it a non-probabilistic binary linear classifier."
      ]
    },
    {
      "cell_type": "code",
      "metadata": {
        "id": "VBnV71QowZ07",
        "colab": {
          "base_uri": "https://localhost:8080/"
        },
        "outputId": "79aae95f-ad1e-4f7f-e351-8bc129116c1e"
      },
      "source": [
        "#Support vector machine model\n",
        "from sklearn.svm import SVC\n",
        "\n",
        " #instantiate the model\n",
        "svm = SVC(kernel='linear', C=1.0, random_state=42,max_iter=-1)\n",
        "#fit the model\n",
        "svm.fit(X_train, y_train)\n",
        "\n",
        "#predicting the target value from the model for the samples\n",
        "y_test_svm = svm.predict(X_test)\n",
        "y_train_svm = svm.predict(X_train)\n",
        "\n",
        "#computing the accuracy of the model performance\n",
        "acc_train_svm = accuracy_score(y_train,y_train_svm)\n",
        "acc_test_svm = accuracy_score(y_test,y_test_svm)\n",
        "\n",
        "print(\"SVM: Accuracy on training Data: {:.3f}\".format(acc_train_svm))\n",
        "print(\"SVM : Accuracy on test Data: {:.3f}\".format(acc_test_svm))\n",
        "#import pandas as pd\n",
        "#import numpy as np\n",
        "#import matplotlib.pyplot as plt\n",
        "#from sklearn.metrics import accuracy_score\n",
        "#from sklearn.svm import SVC\n",
        "\n",
        "# Create a template lit to store accuracies\n",
        "#acc = []\n",
        "\n",
        "# Iterate along a logarithmically spaced ranged\n",
        "\n",
        "#for i in np.logspace(0,5, num = 0):\n",
        " #  if(i > 200 and i<1000):\n",
        "    # Print out the number of iterations to use for the current loop\n",
        "  #  print('Training model with iterations: ', i)\n",
        "    # Create an SVC algorithm with the number of iterations for the current loop\n",
        "   # svc = SVC(max_iter = i, class_weight='balanced')\n",
        "    # Fit the algorithm to the data\n",
        "    #svc.fit(X_train, y_train)\n",
        "    #y_test_svc = svc.predict(X_test)\n",
        "    #y_train_svc = svc.predict(X_train)\n",
        "    #acc_train_svc = accuracy_score(y_train,y_train_svc)\n",
        "    #acc_test_svc = accuracy_score(y_test,y_test_svc)\n",
        "\n",
        "\n",
        "\n",
        "    # Append the current accuracy score to the template list\n",
        "    #acc.append(accuracy_score(y_test, logreg.predict(X_test)) * 100)\n",
        "\n",
        "# Convert the accuracy list to a series\n",
        "#acc_train_svc = pd.Series(acc, index = np.logspace(0,5, num = 0))\n",
        "# Set the plot size\n",
        "#plt.figure(figsize = (15,10))\n",
        "# Set the plot title\n",
        "#title = 'Graph to show the accuracy of the SVC model as number of iterations increases\\nfinal accuracy: ' + str(acc.iloc[-1])\n",
        "#plt.title(title)\n",
        "# Set the xlabel and ylabel\n",
        "#plt.xlabel('Number of iterations')\n",
        "#plt.ylabel('Accuracy score')\n",
        "# Plot the graph\n",
        "#acc_train_svc.plot.line()\n",
        "#plt.show()"
      ],
      "execution_count": 605,
      "outputs": [
        {
          "output_type": "stream",
          "text": [
            "SVM: Accuracy on training Data: 0.803\n",
            "SVM : Accuracy on test Data: 0.798\n"
          ],
          "name": "stdout"
        }
      ]
    },
    {
      "cell_type": "code",
      "metadata": {
        "id": "4Nlrfq-pwZ1G"
      },
      "source": [
        "#predicting the target value from the model for the samples\n",
        "y_test_svm = svm.predict(X_test)\n",
        "y_train_svm = svm.predict(X_train)"
      ],
      "execution_count": 606,
      "outputs": []
    },
    {
      "cell_type": "markdown",
      "metadata": {
        "id": "Qb2FHrUpwZ1P"
      },
      "source": [
        "**Performance Evaluation:**"
      ]
    },
    {
      "cell_type": "code",
      "metadata": {
        "id": "1ofewcVHwZ1R",
        "colab": {
          "base_uri": "https://localhost:8080/"
        },
        "outputId": "76ac87e8-a153-4fe1-d2ab-94bca086b26f"
      },
      "source": [
        "#computing the accuracy of the model performance\n",
        "acc_train_svm = accuracy_score(y_train,y_train_svm)\n",
        "acc_test_svm = accuracy_score(y_test,y_test_svm)\n",
        "\n",
        "print(\"SVM: Accuracy on training Data: {:.3f}\".format(acc_train_svm))\n",
        "print(\"SVM : Accuracy on test Data: {:.3f}\".format(acc_test_svm))"
      ],
      "execution_count": 607,
      "outputs": [
        {
          "output_type": "stream",
          "text": [
            "SVM: Accuracy on training Data: 0.803\n",
            "SVM : Accuracy on test Data: 0.798\n"
          ],
          "name": "stdout"
        }
      ]
    },
    {
      "cell_type": "markdown",
      "metadata": {
        "id": "ToF9fRNSwZ1b"
      },
      "source": [
        "**Storing the results:**"
      ]
    },
    {
      "cell_type": "code",
      "metadata": {
        "id": "4ZAc00sUwZ1d"
      },
      "source": [
        "#storing the results. \n",
        "storeResults('SVM', acc_train_svm, acc_test_svm)"
      ],
      "execution_count": 608,
      "outputs": []
    },
    {
      "cell_type": "markdown",
      "metadata": {
        "id": "cS9bznDwXp9n"
      },
      "source": [
        "### **4.8. Nearest Neighbor**"
      ]
    },
    {
      "cell_type": "markdown",
      "metadata": {
        "id": "k3vsRppPv3rs"
      },
      "source": [
        "## **5. Comparision of Models**\n",
        "Using a simple dataframe to compare the above models."
      ]
    },
    {
      "cell_type": "code",
      "metadata": {
        "id": "RkOSzcfsv8Xl",
        "colab": {
          "base_uri": "https://localhost:8080/",
          "height": 254
        },
        "outputId": "e9722210-ef4b-43ed-9699-047f00299dfa"
      },
      "source": [
        "#creating dataframe\n",
        "results = pd.DataFrame({ 'ML Model': ML_Model,    \n",
        "    'Train Accuracy': acc_train,\n",
        "    'Test Accuracy': acc_test})\n",
        "results"
      ],
      "execution_count": 609,
      "outputs": [
        {
          "output_type": "execute_result",
          "data": {
            "text/html": [
              "<div>\n",
              "<style scoped>\n",
              "    .dataframe tbody tr th:only-of-type {\n",
              "        vertical-align: middle;\n",
              "    }\n",
              "\n",
              "    .dataframe tbody tr th {\n",
              "        vertical-align: top;\n",
              "    }\n",
              "\n",
              "    .dataframe thead th {\n",
              "        text-align: right;\n",
              "    }\n",
              "</style>\n",
              "<table border=\"1\" class=\"dataframe\">\n",
              "  <thead>\n",
              "    <tr style=\"text-align: right;\">\n",
              "      <th></th>\n",
              "      <th>ML Model</th>\n",
              "      <th>Train Accuracy</th>\n",
              "      <th>Test Accuracy</th>\n",
              "    </tr>\n",
              "  </thead>\n",
              "  <tbody>\n",
              "    <tr>\n",
              "      <th>0</th>\n",
              "      <td>Decision Tree</td>\n",
              "      <td>0.869</td>\n",
              "      <td>0.854</td>\n",
              "    </tr>\n",
              "    <tr>\n",
              "      <th>1</th>\n",
              "      <td>Random Forest</td>\n",
              "      <td>0.869</td>\n",
              "      <td>0.852</td>\n",
              "    </tr>\n",
              "    <tr>\n",
              "      <th>2</th>\n",
              "      <td>Multilayer Perceptrons</td>\n",
              "      <td>0.864</td>\n",
              "      <td>0.848</td>\n",
              "    </tr>\n",
              "    <tr>\n",
              "      <th>3</th>\n",
              "      <td>XGBoost</td>\n",
              "      <td>0.866</td>\n",
              "      <td>0.848</td>\n",
              "    </tr>\n",
              "    <tr>\n",
              "      <th>4</th>\n",
              "      <td>AdaBoost</td>\n",
              "      <td>0.831</td>\n",
              "      <td>0.817</td>\n",
              "    </tr>\n",
              "    <tr>\n",
              "      <th>5</th>\n",
              "      <td>Gaussian Naive Bayes</td>\n",
              "      <td>0.793</td>\n",
              "      <td>0.788</td>\n",
              "    </tr>\n",
              "    <tr>\n",
              "      <th>6</th>\n",
              "      <td>SVM</td>\n",
              "      <td>0.803</td>\n",
              "      <td>0.798</td>\n",
              "    </tr>\n",
              "  </tbody>\n",
              "</table>\n",
              "</div>"
            ],
            "text/plain": [
              "                 ML Model  Train Accuracy  Test Accuracy\n",
              "0           Decision Tree           0.869          0.854\n",
              "1           Random Forest           0.869          0.852\n",
              "2  Multilayer Perceptrons           0.864          0.848\n",
              "3                 XGBoost           0.866          0.848\n",
              "4                AdaBoost           0.831          0.817\n",
              "5    Gaussian Naive Bayes           0.793          0.788\n",
              "6                     SVM           0.803          0.798"
            ]
          },
          "metadata": {
            "tags": []
          },
          "execution_count": 609
        }
      ]
    },
    {
      "cell_type": "markdown",
      "metadata": {
        "id": "nyeRPOXqP0Nj"
      },
      "source": [
        "# **6. Hybrid Models**"
      ]
    },
    {
      "cell_type": "markdown",
      "metadata": {
        "id": "oBgZzb1ThgD0"
      },
      "source": [
        "##**6.1. Stacking all models into 1 Hybrid model**"
      ]
    },
    {
      "cell_type": "markdown",
      "metadata": {
        "id": "oK6_dgCOX0Ds"
      },
      "source": [
        "### **Model-6.1.1. : Gaussian Naive Bayes and Random Forest**\n",
        "Below is the implementation of combination of Gaussian Naive Bayes and Random Forest algorithms."
      ]
    },
    {
      "cell_type": "code",
      "metadata": {
        "id": "OI26VB9HZ0gn"
      },
      "source": [
        "import mlxtend as md\n",
        "from mlxtend.plotting import plot_confusion_matrix\n",
        "from mlxtend.classifier import StackingClassifier\n",
        "from sklearn.linear_model import LogisticRegression"
      ],
      "execution_count": 610,
      "outputs": []
    },
    {
      "cell_type": "code",
      "metadata": {
        "id": "UEoi48-SY2XQ"
      },
      "source": [
        "# defining meta-classifier\n",
        "\n",
        "lr = LogisticRegression(solver='lbfgs', max_iter=700)  \n",
        "clf_stack = StackingClassifier(classifiers =[forest, gnb], meta_classifier = lr, use_probas = True, use_features_in_secondary = True)"
      ],
      "execution_count": 611,
      "outputs": []
    },
    {
      "cell_type": "code",
      "metadata": {
        "id": "AYbVlVZxZ7N7"
      },
      "source": [
        " # training of stacked model\n",
        "model_stack = clf_stack.fit(X_train, y_train)\n",
        "pred_stack_train = model_stack.predict(X_train)  \n",
        "pred_stack_test = model_stack.predict(X_test) "
      ],
      "execution_count": 612,
      "outputs": []
    },
    {
      "cell_type": "markdown",
      "metadata": {
        "id": "a6lirFeda4oD"
      },
      "source": [
        " **Performance Evaluation:**"
      ]
    },
    {
      "cell_type": "code",
      "metadata": {
        "colab": {
          "base_uri": "https://localhost:8080/"
        },
        "id": "vFKP_qXzaHCe",
        "outputId": "e37e8dde-379b-4201-c20c-7fce239d4aaa"
      },
      "source": [
        "#computing the accuracy of the model performance\n",
        "\n",
        "acc_stack_train = accuracy_score(y_train, pred_stack_train)\n",
        "acc_stack_test =  accuracy_score(y_test, pred_stack_test) \n",
        "\n",
        "print(\"Accuray score of Stacked model: {:.3f}\".format(acc_stack_train))\n",
        "print(\"Accuray score of Stacked model: {:.3f}\".format(acc_stack_test))"
      ],
      "execution_count": 613,
      "outputs": [
        {
          "output_type": "stream",
          "text": [
            "Accuray score of Stacked model: 0.868\n",
            "Accuray score of Stacked model: 0.859\n"
          ],
          "name": "stdout"
        }
      ]
    },
    {
      "cell_type": "code",
      "metadata": {
        "colab": {
          "base_uri": "https://localhost:8080/"
        },
        "id": "tXSggt4Pcv_2",
        "outputId": "ccde2e6f-82a5-4bed-e11e-b9bbc9f333b4"
      },
      "source": [
        "#computing the accuracy of the model performance\n",
        "\n",
        "acc_stack_train = accuracy_score(y_train, pred_stack_train)\n",
        "acc_stack_test =  accuracy_score(y_test, pred_stack_test) \n",
        "\n",
        "print(\"Accuray score of Stacked model: {:.3f}\".format(acc_stack_train))\n",
        "print(\"Accuray score of Stacked model: {:.3f}\".format(acc_stack_test))"
      ],
      "execution_count": 614,
      "outputs": [
        {
          "output_type": "stream",
          "text": [
            "Accuray score of Stacked model: 0.868\n",
            "Accuray score of Stacked model: 0.859\n"
          ],
          "name": "stdout"
        }
      ]
    },
    {
      "cell_type": "markdown",
      "metadata": {
        "id": "KH4CxDcRaluS"
      },
      "source": [
        " **Storing the results:**"
      ]
    },
    {
      "cell_type": "code",
      "metadata": {
        "id": "rfqe2FhcalIt"
      },
      "source": [
        "#storing the results. \n",
        "storeResults('RF & NB', acc_stack_train, acc_stack_test)"
      ],
      "execution_count": 615,
      "outputs": []
    },
    {
      "cell_type": "markdown",
      "metadata": {
        "id": "c6kZVsUzbFKH"
      },
      "source": [
        "###**Model-6.1.2. : Stacking Model-A with Decision Forest**"
      ]
    },
    {
      "cell_type": "code",
      "metadata": {
        "id": "G_OYi8O1bwr5",
        "colab": {
          "base_uri": "https://localhost:8080/"
        },
        "outputId": "e3762628-0567-4870-b7f3-b9d1fdb012c0"
      },
      "source": [
        "# defining meta-classifier\n",
        "\n",
        "lrx = LogisticRegression(solver='lbfgs', max_iter=800)  \n",
        "clf_stackx = StackingClassifier(classifiers =[clf_stack, tree], meta_classifier = lrx, use_probas = True, use_features_in_secondary = True)\n",
        "\n",
        "# training of stacked model\n",
        "model_stackx = clf_stackx.fit(X_train, y_train)\n",
        "pred_stackx_train = model_stackx.predict(X_train)  \n",
        "pred_stackx_test = model_stackx.predict(X_test) \n",
        "\n",
        "acc_stackx_train = accuracy_score(y_train, pred_stackx_train)\n",
        "acc_stackx_test =  accuracy_score(y_test, pred_stackx_test) \n",
        "\n",
        "print(\"Accuray score of Stacked model: {:.3f}\".format(acc_stackx_train))\n",
        "print(\"Accuray score of Stacked model: {:.3f}\".format(acc_stackx_test))"
      ],
      "execution_count": 616,
      "outputs": [
        {
          "output_type": "stream",
          "text": [
            "Accuray score of Stacked model: 0.869\n",
            "Accuray score of Stacked model: 0.855\n"
          ],
          "name": "stdout"
        }
      ]
    },
    {
      "cell_type": "code",
      "metadata": {
        "id": "rG4VxoGzcJDk"
      },
      "source": [
        "# training of stacked model\n",
        "model_stackx = clf_stackx.fit(X_train, y_train)\n",
        "pred_stackx_train = model_stackx.predict(X_train)  \n",
        "pred_stackx_test = model_stackx.predict(X_test) "
      ],
      "execution_count": 617,
      "outputs": []
    },
    {
      "cell_type": "markdown",
      "metadata": {
        "id": "v63sJ7Jpcrzn"
      },
      "source": [
        " **Performance Evaluation:**"
      ]
    },
    {
      "cell_type": "code",
      "metadata": {
        "colab": {
          "base_uri": "https://localhost:8080/"
        },
        "id": "YWG0wIgkcy1f",
        "outputId": "be37551b-02f2-44b3-cb55-5f1805ba2343"
      },
      "source": [
        "#computing the accuracy of the model performance\n",
        "\n",
        "acc_stackx_train = accuracy_score(y_train, pred_stackx_train)\n",
        "acc_stackx_test =  accuracy_score(y_test, pred_stackx_test) \n",
        "\n",
        "print(\"Accuray score of Stacked model: {:.3f}\".format(acc_stackx_train))\n",
        "print(\"Accuray score of Stacked model: {:.3f}\".format(acc_stackx_test))"
      ],
      "execution_count": 618,
      "outputs": [
        {
          "output_type": "stream",
          "text": [
            "Accuray score of Stacked model: 0.869\n",
            "Accuray score of Stacked model: 0.855\n"
          ],
          "name": "stdout"
        }
      ]
    },
    {
      "cell_type": "markdown",
      "metadata": {
        "id": "HU026V0CdC2F"
      },
      "source": [
        "**Storing the results:**"
      ]
    },
    {
      "cell_type": "code",
      "metadata": {
        "id": "jggKmhKfc8v3"
      },
      "source": [
        "#storing the results. \n",
        "storeResults('DT & RF & NB', acc_stackx_train, acc_stackx_test)"
      ],
      "execution_count": 619,
      "outputs": []
    },
    {
      "cell_type": "markdown",
      "metadata": {
        "id": "G8nSikoTdlQD"
      },
      "source": [
        "### **Model-6.1.3. : Stacking Model-B with Multilayer Perceptrons**"
      ]
    },
    {
      "cell_type": "code",
      "metadata": {
        "id": "xrrRDrwBd0-T",
        "colab": {
          "base_uri": "https://localhost:8080/"
        },
        "outputId": "d20717ed-0331-46de-a590-356adedd072d"
      },
      "source": [
        "# defining meta-classifier\n",
        "\n",
        "lry = LogisticRegression(solver='lbfgs', max_iter=500)  \n",
        "clf_stacky = StackingClassifier(classifiers =[clf_stackx, mlp], meta_classifier = lry, use_probas = True, use_features_in_secondary = True)\n",
        "\n",
        "# training of stacked model\n",
        "model_stacky = clf_stacky.fit(X_train, y_train)\n",
        "pred_stacky_train = model_stacky.predict(X_train)  \n",
        "pred_stacky_test = model_stacky.predict(X_test) \n",
        "\n",
        "#computing the accuracy of the model performance\n",
        "\n",
        "acc_stacky_train = accuracy_score(y_train, pred_stacky_train)\n",
        "acc_stacky_test =  accuracy_score(y_test, pred_stacky_test) \n",
        "\n",
        "print(\"Accuray score of Stacked model: {:.3f}\".format(acc_stacky_train))\n",
        "print(\"Accuray score of Stacked model: {:.3f}\".format(acc_stacky_test))"
      ],
      "execution_count": 620,
      "outputs": [
        {
          "output_type": "stream",
          "text": [
            "Accuray score of Stacked model: 0.868\n",
            "Accuray score of Stacked model: 0.858\n"
          ],
          "name": "stdout"
        }
      ]
    },
    {
      "cell_type": "code",
      "metadata": {
        "id": "enAcC5N2ebl7"
      },
      "source": [
        "# training of stacked model\n",
        "model_stacky = clf_stacky.fit(X_train, y_train)\n",
        "pred_stacky_train = model_stacky.predict(X_train)  \n",
        "pred_stacky_test = model_stacky.predict(X_test) "
      ],
      "execution_count": 621,
      "outputs": []
    },
    {
      "cell_type": "markdown",
      "metadata": {
        "id": "n_jzEAANepl9"
      },
      "source": [
        "**Performance Evaluation:**"
      ]
    },
    {
      "cell_type": "code",
      "metadata": {
        "colab": {
          "base_uri": "https://localhost:8080/"
        },
        "id": "g1WLRqjgetrZ",
        "outputId": "3be06a63-419d-4eae-d7fd-f30b4d70e966"
      },
      "source": [
        "#computing the accuracy of the model performance\n",
        "\n",
        "acc_stacky_train = accuracy_score(y_train, pred_stacky_train)\n",
        "acc_stacky_test =  accuracy_score(y_test, pred_stacky_test) \n",
        "\n",
        "print(\"Accuray score of Stacked model: {:.3f}\".format(acc_stacky_train))\n",
        "print(\"Accuray score of Stacked model: {:.3f}\".format(acc_stacky_test))"
      ],
      "execution_count": 622,
      "outputs": [
        {
          "output_type": "stream",
          "text": [
            "Accuray score of Stacked model: 0.869\n",
            "Accuray score of Stacked model: 0.858\n"
          ],
          "name": "stdout"
        }
      ]
    },
    {
      "cell_type": "markdown",
      "metadata": {
        "id": "hob7mH8Ye5Lb"
      },
      "source": [
        "**Storing the results:**"
      ]
    },
    {
      "cell_type": "code",
      "metadata": {
        "id": "LMEd2gM8e-Vm"
      },
      "source": [
        "#storing the results. \n",
        "storeResults('MLP & DT & RF & NB', acc_stacky_train, acc_stacky_test)"
      ],
      "execution_count": 623,
      "outputs": []
    },
    {
      "cell_type": "markdown",
      "metadata": {
        "id": "tsPZ2KnffzvE"
      },
      "source": [
        "### **Model-6.1.4. : Stacking Model-C with XGBoost**"
      ]
    },
    {
      "cell_type": "code",
      "metadata": {
        "id": "W-KqbdR7f6Z_",
        "colab": {
          "base_uri": "https://localhost:8080/"
        },
        "outputId": "d40471c6-f01e-4550-c91d-1b27e39d79cf"
      },
      "source": [
        "# defining meta-classifier\n",
        "\n",
        "lrz = LogisticRegression(solver='lbfgs', max_iter=1000)  \n",
        "clf_stackz = StackingClassifier(classifiers =[clf_stacky, xgb], meta_classifier = lrz, use_probas = True, use_features_in_secondary = True)\n",
        "\n",
        "# training of stacked model\n",
        "model_stackz = clf_stackz.fit(X_train, y_train)\n",
        "pred_stackz_train = model_stackz.predict(X_train)  \n",
        "pred_stackz_test = model_stackz.predict(X_test) \n",
        "\n",
        "#computing the accuracy of the model performance\n",
        "\n",
        "acc_stackz_train = accuracy_score(y_train, pred_stackz_train)\n",
        "acc_stackz_test =  accuracy_score(y_test, pred_stackz_test) \n",
        "\n",
        "print(\"Accuray score of Stacked model: {:.3f}\".format(acc_stackz_train))\n",
        "print(\"Accuray score of Stacked model: {:.3f}\".format(acc_stackz_test))"
      ],
      "execution_count": 624,
      "outputs": [
        {
          "output_type": "stream",
          "text": [
            "Accuray score of Stacked model: 0.868\n",
            "Accuray score of Stacked model: 0.857\n"
          ],
          "name": "stdout"
        }
      ]
    },
    {
      "cell_type": "code",
      "metadata": {
        "id": "9j-BCLwngiNy"
      },
      "source": [
        "# training of stacked model\n",
        "model_stackz = clf_stackz.fit(X_train, y_train)\n",
        "pred_stackz_train = model_stackz.predict(X_train)  \n",
        "pred_stackz_test = model_stackz.predict(X_test) "
      ],
      "execution_count": 625,
      "outputs": []
    },
    {
      "cell_type": "markdown",
      "metadata": {
        "id": "2pYsV6cfgxtX"
      },
      "source": [
        "**Performance Evaluation:**"
      ]
    },
    {
      "cell_type": "code",
      "metadata": {
        "colab": {
          "base_uri": "https://localhost:8080/"
        },
        "id": "hi0IwzwAguh7",
        "outputId": "58674e58-ff3a-4363-ace2-876d12eefcad"
      },
      "source": [
        "#computing the accuracy of the model performance\n",
        "\n",
        "acc_stackz_train = accuracy_score(y_train, pred_stackz_train)\n",
        "acc_stackz_test =  accuracy_score(y_test, pred_stackz_test) \n",
        "\n",
        "print(\"Accuray score of Stacked model: {:.3f}\".format(acc_stackz_train))\n",
        "print(\"Accuray score of Stacked model: {:.3f}\".format(acc_stackz_test))"
      ],
      "execution_count": 626,
      "outputs": [
        {
          "output_type": "stream",
          "text": [
            "Accuray score of Stacked model: 0.868\n",
            "Accuray score of Stacked model: 0.857\n"
          ],
          "name": "stdout"
        }
      ]
    },
    {
      "cell_type": "markdown",
      "metadata": {
        "id": "TLvGzciYhDNp"
      },
      "source": [
        "**Storing results:**"
      ]
    },
    {
      "cell_type": "code",
      "metadata": {
        "id": "_oNufM2shG97"
      },
      "source": [
        "#storing the results. \n",
        "storeResults('XGB & MLP & DT & RF & NB', acc_stackz_train, acc_stackz_test)"
      ],
      "execution_count": 627,
      "outputs": []
    },
    {
      "cell_type": "markdown",
      "metadata": {
        "id": "9mBFwnZFhRo7"
      },
      "source": [
        "### **Model-6.1.5. : Stacking Model-D with AdaBoost Classifier**"
      ]
    },
    {
      "cell_type": "code",
      "metadata": {
        "id": "iXbR5PEdhdjp",
        "colab": {
          "base_uri": "https://localhost:8080/"
        },
        "outputId": "acbb324e-b084-47ca-d7d4-9e58c2b34e3e"
      },
      "source": [
        "# defining meta-classifier\n",
        "\n",
        "lrm = LogisticRegression(solver='lbfgs', max_iter=400)  \n",
        "clf_stackm = StackingClassifier(classifiers =[clf_stackz, hybrid_model_AB], meta_classifier = lrm, use_probas = True, use_features_in_secondary = True)\n",
        "\n",
        "# training of stacked model\n",
        "model_stackm = clf_stackm.fit(X_train, y_train)\n",
        "pred_stackm_train = model_stackm.predict(X_train)  \n",
        "pred_stackm_test = model_stackm.predict(X_test) \n",
        "\n",
        "#computing the accuracy of the model performance\n",
        "\n",
        "acc_stackm_train = accuracy_score(y_train, pred_stackm_train)\n",
        "acc_stackm_test =  accuracy_score(y_test, pred_stackm_test) \n",
        "\n",
        "print(\"Accuray score of Stacked model: {:.3f}\".format(acc_stackz_train))\n",
        "print(\"Accuray score of Stacked model: {:.3f}\".format(acc_stackz_test))"
      ],
      "execution_count": 628,
      "outputs": [
        {
          "output_type": "stream",
          "text": [
            "Accuray score of Stacked model: 0.868\n",
            "Accuray score of Stacked model: 0.857\n"
          ],
          "name": "stdout"
        }
      ]
    },
    {
      "cell_type": "code",
      "metadata": {
        "id": "M_Sdp_Yoh1Z1"
      },
      "source": [
        "# training of stacked model\n",
        "model_stackm = clf_stackm.fit(X_train, y_train)\n",
        "pred_stackm_train = model_stackm.predict(X_train)  \n",
        "pred_stackm_test = model_stackm.predict(X_test) "
      ],
      "execution_count": 629,
      "outputs": []
    },
    {
      "cell_type": "markdown",
      "metadata": {
        "id": "bczMoR8sh_35"
      },
      "source": [
        "**Performance Evaluation:**"
      ]
    },
    {
      "cell_type": "code",
      "metadata": {
        "colab": {
          "base_uri": "https://localhost:8080/"
        },
        "id": "APbsz_mHiD-M",
        "outputId": "3fc13db8-c00f-4b4a-b928-e779d33d84db"
      },
      "source": [
        "#computing the accuracy of the model performance\n",
        "\n",
        "acc_stackm_train = accuracy_score(y_train, pred_stackm_train)\n",
        "acc_stackm_test =  accuracy_score(y_test, pred_stackm_test) \n",
        "\n",
        "print(\"Accuray score of Stacked model: {:.3f}\".format(acc_stackz_train))\n",
        "print(\"Accuray score of Stacked model: {:.3f}\".format(acc_stackz_test))"
      ],
      "execution_count": 630,
      "outputs": [
        {
          "output_type": "stream",
          "text": [
            "Accuray score of Stacked model: 0.868\n",
            "Accuray score of Stacked model: 0.857\n"
          ],
          "name": "stdout"
        }
      ]
    },
    {
      "cell_type": "markdown",
      "metadata": {
        "id": "mY036__3iSix"
      },
      "source": [
        "**Storing the result:**"
      ]
    },
    {
      "cell_type": "code",
      "metadata": {
        "id": "8vJcCg8jiY8E"
      },
      "source": [
        "#storing the results. \n",
        "storeResults('ADB & XGB & MLP & DT & RF & NB', acc_stackm_train, acc_stackm_test)"
      ],
      "execution_count": 631,
      "outputs": []
    },
    {
      "cell_type": "markdown",
      "metadata": {
        "id": "biswhAbIhyLX"
      },
      "source": [
        "## **Comparison of models:**"
      ]
    },
    {
      "cell_type": "code",
      "metadata": {
        "colab": {
          "base_uri": "https://localhost:8080/",
          "height": 402
        },
        "id": "Jj5XiuRzmIox",
        "outputId": "33f1d89f-efdc-48ee-8a88-b57aa6134f23"
      },
      "source": [
        "#creating dataframe\n",
        "results = pd.DataFrame({ 'ML Model': ML_Model,    \n",
        "    'Train Accuracy': acc_train,\n",
        "    'Test Accuracy': acc_test})\n",
        "results"
      ],
      "execution_count": 632,
      "outputs": [
        {
          "output_type": "execute_result",
          "data": {
            "text/html": [
              "<div>\n",
              "<style scoped>\n",
              "    .dataframe tbody tr th:only-of-type {\n",
              "        vertical-align: middle;\n",
              "    }\n",
              "\n",
              "    .dataframe tbody tr th {\n",
              "        vertical-align: top;\n",
              "    }\n",
              "\n",
              "    .dataframe thead th {\n",
              "        text-align: right;\n",
              "    }\n",
              "</style>\n",
              "<table border=\"1\" class=\"dataframe\">\n",
              "  <thead>\n",
              "    <tr style=\"text-align: right;\">\n",
              "      <th></th>\n",
              "      <th>ML Model</th>\n",
              "      <th>Train Accuracy</th>\n",
              "      <th>Test Accuracy</th>\n",
              "    </tr>\n",
              "  </thead>\n",
              "  <tbody>\n",
              "    <tr>\n",
              "      <th>0</th>\n",
              "      <td>Decision Tree</td>\n",
              "      <td>0.869</td>\n",
              "      <td>0.854</td>\n",
              "    </tr>\n",
              "    <tr>\n",
              "      <th>1</th>\n",
              "      <td>Random Forest</td>\n",
              "      <td>0.869</td>\n",
              "      <td>0.852</td>\n",
              "    </tr>\n",
              "    <tr>\n",
              "      <th>2</th>\n",
              "      <td>Multilayer Perceptrons</td>\n",
              "      <td>0.864</td>\n",
              "      <td>0.848</td>\n",
              "    </tr>\n",
              "    <tr>\n",
              "      <th>3</th>\n",
              "      <td>XGBoost</td>\n",
              "      <td>0.866</td>\n",
              "      <td>0.848</td>\n",
              "    </tr>\n",
              "    <tr>\n",
              "      <th>4</th>\n",
              "      <td>AdaBoost</td>\n",
              "      <td>0.831</td>\n",
              "      <td>0.817</td>\n",
              "    </tr>\n",
              "    <tr>\n",
              "      <th>5</th>\n",
              "      <td>Gaussian Naive Bayes</td>\n",
              "      <td>0.793</td>\n",
              "      <td>0.788</td>\n",
              "    </tr>\n",
              "    <tr>\n",
              "      <th>6</th>\n",
              "      <td>SVM</td>\n",
              "      <td>0.803</td>\n",
              "      <td>0.798</td>\n",
              "    </tr>\n",
              "    <tr>\n",
              "      <th>7</th>\n",
              "      <td>RF &amp; NB</td>\n",
              "      <td>0.868</td>\n",
              "      <td>0.859</td>\n",
              "    </tr>\n",
              "    <tr>\n",
              "      <th>8</th>\n",
              "      <td>DT &amp; RF &amp; NB</td>\n",
              "      <td>0.869</td>\n",
              "      <td>0.855</td>\n",
              "    </tr>\n",
              "    <tr>\n",
              "      <th>9</th>\n",
              "      <td>MLP &amp; DT &amp; RF &amp; NB</td>\n",
              "      <td>0.868</td>\n",
              "      <td>0.858</td>\n",
              "    </tr>\n",
              "    <tr>\n",
              "      <th>10</th>\n",
              "      <td>XGB &amp; MLP &amp; DT &amp; RF &amp; NB</td>\n",
              "      <td>0.868</td>\n",
              "      <td>0.857</td>\n",
              "    </tr>\n",
              "    <tr>\n",
              "      <th>11</th>\n",
              "      <td>ADB &amp; XGB &amp; MLP &amp; DT &amp; RF &amp; NB</td>\n",
              "      <td>0.867</td>\n",
              "      <td>0.852</td>\n",
              "    </tr>\n",
              "  </tbody>\n",
              "</table>\n",
              "</div>"
            ],
            "text/plain": [
              "                          ML Model  Train Accuracy  Test Accuracy\n",
              "0                    Decision Tree           0.869          0.854\n",
              "1                    Random Forest           0.869          0.852\n",
              "2           Multilayer Perceptrons           0.864          0.848\n",
              "3                          XGBoost           0.866          0.848\n",
              "4                         AdaBoost           0.831          0.817\n",
              "5             Gaussian Naive Bayes           0.793          0.788\n",
              "6                              SVM           0.803          0.798\n",
              "7                          RF & NB           0.868          0.859\n",
              "8                     DT & RF & NB           0.869          0.855\n",
              "9               MLP & DT & RF & NB           0.868          0.858\n",
              "10        XGB & MLP & DT & RF & NB           0.868          0.857\n",
              "11  ADB & XGB & MLP & DT & RF & NB           0.867          0.852"
            ]
          },
          "metadata": {
            "tags": []
          },
          "execution_count": 632
        }
      ]
    },
    {
      "cell_type": "code",
      "metadata": {
        "colab": {
          "base_uri": "https://localhost:8080/",
          "height": 402
        },
        "id": "Rs3FrKWNiQKY",
        "outputId": "97bc72d5-3ead-42db-f124-37115506adbf"
      },
      "source": [
        "#Sorting the datafram on accuracy\n",
        "results.sort_values(by=['Train Accuracy'], ascending=False)"
      ],
      "execution_count": 633,
      "outputs": [
        {
          "output_type": "execute_result",
          "data": {
            "text/html": [
              "<div>\n",
              "<style scoped>\n",
              "    .dataframe tbody tr th:only-of-type {\n",
              "        vertical-align: middle;\n",
              "    }\n",
              "\n",
              "    .dataframe tbody tr th {\n",
              "        vertical-align: top;\n",
              "    }\n",
              "\n",
              "    .dataframe thead th {\n",
              "        text-align: right;\n",
              "    }\n",
              "</style>\n",
              "<table border=\"1\" class=\"dataframe\">\n",
              "  <thead>\n",
              "    <tr style=\"text-align: right;\">\n",
              "      <th></th>\n",
              "      <th>ML Model</th>\n",
              "      <th>Train Accuracy</th>\n",
              "      <th>Test Accuracy</th>\n",
              "    </tr>\n",
              "  </thead>\n",
              "  <tbody>\n",
              "    <tr>\n",
              "      <th>0</th>\n",
              "      <td>Decision Tree</td>\n",
              "      <td>0.869</td>\n",
              "      <td>0.854</td>\n",
              "    </tr>\n",
              "    <tr>\n",
              "      <th>1</th>\n",
              "      <td>Random Forest</td>\n",
              "      <td>0.869</td>\n",
              "      <td>0.852</td>\n",
              "    </tr>\n",
              "    <tr>\n",
              "      <th>8</th>\n",
              "      <td>DT &amp; RF &amp; NB</td>\n",
              "      <td>0.869</td>\n",
              "      <td>0.855</td>\n",
              "    </tr>\n",
              "    <tr>\n",
              "      <th>7</th>\n",
              "      <td>RF &amp; NB</td>\n",
              "      <td>0.868</td>\n",
              "      <td>0.859</td>\n",
              "    </tr>\n",
              "    <tr>\n",
              "      <th>9</th>\n",
              "      <td>MLP &amp; DT &amp; RF &amp; NB</td>\n",
              "      <td>0.868</td>\n",
              "      <td>0.858</td>\n",
              "    </tr>\n",
              "    <tr>\n",
              "      <th>10</th>\n",
              "      <td>XGB &amp; MLP &amp; DT &amp; RF &amp; NB</td>\n",
              "      <td>0.868</td>\n",
              "      <td>0.857</td>\n",
              "    </tr>\n",
              "    <tr>\n",
              "      <th>11</th>\n",
              "      <td>ADB &amp; XGB &amp; MLP &amp; DT &amp; RF &amp; NB</td>\n",
              "      <td>0.867</td>\n",
              "      <td>0.852</td>\n",
              "    </tr>\n",
              "    <tr>\n",
              "      <th>3</th>\n",
              "      <td>XGBoost</td>\n",
              "      <td>0.866</td>\n",
              "      <td>0.848</td>\n",
              "    </tr>\n",
              "    <tr>\n",
              "      <th>2</th>\n",
              "      <td>Multilayer Perceptrons</td>\n",
              "      <td>0.864</td>\n",
              "      <td>0.848</td>\n",
              "    </tr>\n",
              "    <tr>\n",
              "      <th>4</th>\n",
              "      <td>AdaBoost</td>\n",
              "      <td>0.831</td>\n",
              "      <td>0.817</td>\n",
              "    </tr>\n",
              "    <tr>\n",
              "      <th>6</th>\n",
              "      <td>SVM</td>\n",
              "      <td>0.803</td>\n",
              "      <td>0.798</td>\n",
              "    </tr>\n",
              "    <tr>\n",
              "      <th>5</th>\n",
              "      <td>Gaussian Naive Bayes</td>\n",
              "      <td>0.793</td>\n",
              "      <td>0.788</td>\n",
              "    </tr>\n",
              "  </tbody>\n",
              "</table>\n",
              "</div>"
            ],
            "text/plain": [
              "                          ML Model  Train Accuracy  Test Accuracy\n",
              "0                    Decision Tree           0.869          0.854\n",
              "1                    Random Forest           0.869          0.852\n",
              "8                     DT & RF & NB           0.869          0.855\n",
              "7                          RF & NB           0.868          0.859\n",
              "9               MLP & DT & RF & NB           0.868          0.858\n",
              "10        XGB & MLP & DT & RF & NB           0.868          0.857\n",
              "11  ADB & XGB & MLP & DT & RF & NB           0.867          0.852\n",
              "3                          XGBoost           0.866          0.848\n",
              "2           Multilayer Perceptrons           0.864          0.848\n",
              "4                         AdaBoost           0.831          0.817\n",
              "6                              SVM           0.803          0.798\n",
              "5             Gaussian Naive Bayes           0.793          0.788"
            ]
          },
          "metadata": {
            "tags": []
          },
          "execution_count": 633
        }
      ]
    },
    {
      "cell_type": "code",
      "metadata": {
        "colab": {
          "base_uri": "https://localhost:8080/",
          "height": 402
        },
        "id": "qYUdsgKficr6",
        "outputId": "2a814cb3-8270-433a-f89a-685ddf101e02"
      },
      "source": [
        "#Sorting the datafram on accuracy\n",
        "results.sort_values(by=['Test Accuracy'], ascending=False)"
      ],
      "execution_count": 634,
      "outputs": [
        {
          "output_type": "execute_result",
          "data": {
            "text/html": [
              "<div>\n",
              "<style scoped>\n",
              "    .dataframe tbody tr th:only-of-type {\n",
              "        vertical-align: middle;\n",
              "    }\n",
              "\n",
              "    .dataframe tbody tr th {\n",
              "        vertical-align: top;\n",
              "    }\n",
              "\n",
              "    .dataframe thead th {\n",
              "        text-align: right;\n",
              "    }\n",
              "</style>\n",
              "<table border=\"1\" class=\"dataframe\">\n",
              "  <thead>\n",
              "    <tr style=\"text-align: right;\">\n",
              "      <th></th>\n",
              "      <th>ML Model</th>\n",
              "      <th>Train Accuracy</th>\n",
              "      <th>Test Accuracy</th>\n",
              "    </tr>\n",
              "  </thead>\n",
              "  <tbody>\n",
              "    <tr>\n",
              "      <th>7</th>\n",
              "      <td>RF &amp; NB</td>\n",
              "      <td>0.868</td>\n",
              "      <td>0.859</td>\n",
              "    </tr>\n",
              "    <tr>\n",
              "      <th>9</th>\n",
              "      <td>MLP &amp; DT &amp; RF &amp; NB</td>\n",
              "      <td>0.868</td>\n",
              "      <td>0.858</td>\n",
              "    </tr>\n",
              "    <tr>\n",
              "      <th>10</th>\n",
              "      <td>XGB &amp; MLP &amp; DT &amp; RF &amp; NB</td>\n",
              "      <td>0.868</td>\n",
              "      <td>0.857</td>\n",
              "    </tr>\n",
              "    <tr>\n",
              "      <th>8</th>\n",
              "      <td>DT &amp; RF &amp; NB</td>\n",
              "      <td>0.869</td>\n",
              "      <td>0.855</td>\n",
              "    </tr>\n",
              "    <tr>\n",
              "      <th>0</th>\n",
              "      <td>Decision Tree</td>\n",
              "      <td>0.869</td>\n",
              "      <td>0.854</td>\n",
              "    </tr>\n",
              "    <tr>\n",
              "      <th>1</th>\n",
              "      <td>Random Forest</td>\n",
              "      <td>0.869</td>\n",
              "      <td>0.852</td>\n",
              "    </tr>\n",
              "    <tr>\n",
              "      <th>11</th>\n",
              "      <td>ADB &amp; XGB &amp; MLP &amp; DT &amp; RF &amp; NB</td>\n",
              "      <td>0.867</td>\n",
              "      <td>0.852</td>\n",
              "    </tr>\n",
              "    <tr>\n",
              "      <th>2</th>\n",
              "      <td>Multilayer Perceptrons</td>\n",
              "      <td>0.864</td>\n",
              "      <td>0.848</td>\n",
              "    </tr>\n",
              "    <tr>\n",
              "      <th>3</th>\n",
              "      <td>XGBoost</td>\n",
              "      <td>0.866</td>\n",
              "      <td>0.848</td>\n",
              "    </tr>\n",
              "    <tr>\n",
              "      <th>4</th>\n",
              "      <td>AdaBoost</td>\n",
              "      <td>0.831</td>\n",
              "      <td>0.817</td>\n",
              "    </tr>\n",
              "    <tr>\n",
              "      <th>6</th>\n",
              "      <td>SVM</td>\n",
              "      <td>0.803</td>\n",
              "      <td>0.798</td>\n",
              "    </tr>\n",
              "    <tr>\n",
              "      <th>5</th>\n",
              "      <td>Gaussian Naive Bayes</td>\n",
              "      <td>0.793</td>\n",
              "      <td>0.788</td>\n",
              "    </tr>\n",
              "  </tbody>\n",
              "</table>\n",
              "</div>"
            ],
            "text/plain": [
              "                          ML Model  Train Accuracy  Test Accuracy\n",
              "7                          RF & NB           0.868          0.859\n",
              "9               MLP & DT & RF & NB           0.868          0.858\n",
              "10        XGB & MLP & DT & RF & NB           0.868          0.857\n",
              "8                     DT & RF & NB           0.869          0.855\n",
              "0                    Decision Tree           0.869          0.854\n",
              "1                    Random Forest           0.869          0.852\n",
              "11  ADB & XGB & MLP & DT & RF & NB           0.867          0.852\n",
              "2           Multilayer Perceptrons           0.864          0.848\n",
              "3                          XGBoost           0.866          0.848\n",
              "4                         AdaBoost           0.831          0.817\n",
              "6                              SVM           0.803          0.798\n",
              "5             Gaussian Naive Bayes           0.793          0.788"
            ]
          },
          "metadata": {
            "tags": []
          },
          "execution_count": 634
        }
      ]
    },
    {
      "cell_type": "markdown",
      "metadata": {
        "id": "fLRz7IYgigvA"
      },
      "source": [
        "## **6.2. Stacking 2 Models together with better accuracies**"
      ]
    },
    {
      "cell_type": "markdown",
      "metadata": {
        "id": "0M3Kur4tj6AI"
      },
      "source": [
        "### **Model-6.2.1. : Gaussian Naive Bayes and Random Forest**"
      ]
    },
    {
      "cell_type": "code",
      "metadata": {
        "colab": {
          "base_uri": "https://localhost:8080/"
        },
        "id": "ewZL8FnJi_nv",
        "outputId": "02137c1c-c122-40f7-f973-253fa6993e46"
      },
      "source": [
        "# defining meta-classifier\n",
        "\n",
        "lr = LogisticRegression(solver='lbfgs', max_iter=300)  \n",
        "clf_stack = StackingClassifier(classifiers =[forest, gnb], meta_classifier = lr, use_probas = True, use_features_in_secondary = True)\n",
        "\n",
        "# training of stacked model\n",
        "model_stack = clf_stack.fit(X_train, y_train)\n",
        "pred_stack_train = model_stack.predict(X_train)  \n",
        "pred_stack_test = model_stack.predict(X_test) \n",
        "\n",
        "#computing the accuracy of the model performance\n",
        "\n",
        "acc_stack_train = accuracy_score(y_train, pred_stack_train)\n",
        "acc_stack_test =  accuracy_score(y_test, pred_stack_test) \n",
        "\n",
        "print(\"NB & RF : Accuray score of Stacked model: {:.3f}\".format(acc_stack_train))\n",
        "print(\"NB & RF : Accuray score of Stacked model: {:.3f}\".format(acc_stack_test))"
      ],
      "execution_count": 635,
      "outputs": [
        {
          "output_type": "stream",
          "text": [
            "NB & RF : Accuray score of Stacked model: 0.868\n",
            "NB & RF : Accuray score of Stacked model: 0.860\n"
          ],
          "name": "stdout"
        }
      ]
    },
    {
      "cell_type": "markdown",
      "metadata": {
        "id": "sHTfou4nn_vc"
      },
      "source": [
        "**Storing the result:**"
      ]
    },
    {
      "cell_type": "code",
      "metadata": {
        "id": "bZOlUmC2lJZq"
      },
      "source": [
        "#storing the results. \n",
        "storeResults('Random forest & Naive Bayes', acc_stack_train, acc_stack_test)"
      ],
      "execution_count": 636,
      "outputs": []
    },
    {
      "cell_type": "markdown",
      "metadata": {
        "id": "Ceizk0kbkyOg"
      },
      "source": [
        "### **Model-6.2.2. : Random Forest and Decision Tree**"
      ]
    },
    {
      "cell_type": "code",
      "metadata": {
        "colab": {
          "base_uri": "https://localhost:8080/"
        },
        "id": "ZhfNRirrk6Ur",
        "outputId": "08f54af5-ed18-4b7d-de42-61fec031b7be"
      },
      "source": [
        "# defining meta-classifier\n",
        "\n",
        "lrx = LogisticRegression(solver='lbfgs', max_iter=600)  \n",
        "clf_stackx = StackingClassifier(classifiers =[forest, tree], meta_classifier = lrx, use_probas = True, use_features_in_secondary = True)\n",
        "\n",
        "# training of stacked model\n",
        "model_stackx = clf_stackx.fit(X_train, y_train)\n",
        "pred_stackx_train = model_stackx.predict(X_train)  \n",
        "pred_stackx_test = model_stackx.predict(X_test) \n",
        "\n",
        "#computing the accuracy of the model performance\n",
        "\n",
        "acc_stackx_train = accuracy_score(y_train, pred_stackx_train)\n",
        "acc_stackx_test =  accuracy_score(y_test, pred_stackx_test) \n",
        "\n",
        "print(\"DT & RF : Accuray score of Stacked model: {:.3f}\".format(acc_stackx_train))\n",
        "print(\"DT & RF : Accuray score of Stacked model: {:.3f}\".format(acc_stackx_test))"
      ],
      "execution_count": 637,
      "outputs": [
        {
          "output_type": "stream",
          "text": [
            "DT & RF : Accuray score of Stacked model: 0.869\n",
            "DT & RF : Accuray score of Stacked model: 0.860\n"
          ],
          "name": "stdout"
        }
      ]
    },
    {
      "cell_type": "markdown",
      "metadata": {
        "id": "81wCfoKmoB-k"
      },
      "source": [
        "**Storing the result:**"
      ]
    },
    {
      "cell_type": "code",
      "metadata": {
        "id": "A0MLQKK3lMFy"
      },
      "source": [
        "#storing the results. \n",
        "storeResults('Decision Tree & Randome Forest', acc_stackx_train, acc_stackx_test)"
      ],
      "execution_count": 638,
      "outputs": []
    },
    {
      "cell_type": "markdown",
      "metadata": {
        "id": "25cHjHhOlQYk"
      },
      "source": [
        "### **Model-6.2.3. : Random Forest and XGBoost**"
      ]
    },
    {
      "cell_type": "code",
      "metadata": {
        "colab": {
          "base_uri": "https://localhost:8080/"
        },
        "id": "xSExY0OClYRm",
        "outputId": "bdfaa5cd-a73b-4eac-e076-62bc18edcab7"
      },
      "source": [
        "# defining meta-classifier\n",
        "\n",
        "lry = LogisticRegression(solver='lbfgs', max_iter=1000)  \n",
        "clf_stacky = StackingClassifier(classifiers =[forest, xgb], meta_classifier = lry, use_probas = True, use_features_in_secondary = True)\n",
        "\n",
        "# training of stacked model\n",
        "model_stacky = clf_stacky.fit(X_train, y_train)\n",
        "pred_stacky_train = model_stacky.predict(X_train)  \n",
        "pred_stacky_test = model_stacky.predict(X_test) \n",
        "\n",
        "#computing the accuracy of the model performance\n",
        "\n",
        "acc_stacky_train = accuracy_score(y_train, pred_stacky_train)\n",
        "acc_stacky_test =  accuracy_score(y_test, pred_stacky_test) \n",
        "\n",
        "print(\"XGB & RF : Accuray score of Stacked model: {:.3f}\".format(acc_stacky_train))\n",
        "print(\"XGB & RF : Accuray score of Stacked model: {:.3f}\".format(acc_stacky_test))"
      ],
      "execution_count": 639,
      "outputs": [
        {
          "output_type": "stream",
          "text": [
            "XGB & RF : Accuray score of Stacked model: 0.868\n",
            "XGB & RF : Accuray score of Stacked model: 0.859\n"
          ],
          "name": "stdout"
        }
      ]
    },
    {
      "cell_type": "markdown",
      "metadata": {
        "id": "2zQY9TOxoEPW"
      },
      "source": [
        "**Storing the result:**"
      ]
    },
    {
      "cell_type": "code",
      "metadata": {
        "id": "JcIBdKnjljVm"
      },
      "source": [
        "#storing the results. \n",
        "storeResults('XGBoost & Random Forest', acc_stacky_train, acc_stacky_test)"
      ],
      "execution_count": 640,
      "outputs": []
    },
    {
      "cell_type": "markdown",
      "metadata": {
        "id": "v_qm2SZblknK"
      },
      "source": [
        "### **Model-6.2.4. : Decision Tree and AdaBoost**"
      ]
    },
    {
      "cell_type": "code",
      "metadata": {
        "colab": {
          "base_uri": "https://localhost:8080/"
        },
        "id": "v7946K78ls0R",
        "outputId": "d2d019c6-cb6b-4f73-e96e-dd5aa0e581d6"
      },
      "source": [
        "# defining meta-classifier\n",
        "\n",
        "lrz = LogisticRegression(solver='lbfgs', max_iter=800)  \n",
        "clf_stackz = StackingClassifier(classifiers =[tree, hybrid_model_AB], meta_classifier = lrz, use_probas = True, use_features_in_secondary = True)\n",
        "\n",
        "# training of stacked model\n",
        "model_stackz = clf_stackz.fit(X_train, y_train)\n",
        "pred_stackz_train = model_stackz.predict(X_train)  \n",
        "pred_stackz_test = model_stackz.predict(X_test) \n",
        "\n",
        "#computing the accuracy of the model performance\n",
        "\n",
        "acc_stackz_train = accuracy_score(y_train, pred_stackz_train)\n",
        "acc_stackz_test =  accuracy_score(y_test, pred_stackz_test) \n",
        "\n",
        "print(\"DT & ADB : Accuray score of Stacked model: {:.3f}\".format(acc_stackz_train))\n",
        "print(\"DT & ADB : Accuray score of Stacked model: {:.3f}\".format(acc_stackz_test))"
      ],
      "execution_count": 641,
      "outputs": [
        {
          "output_type": "stream",
          "text": [
            "DT & ADB : Accuray score of Stacked model: 0.869\n",
            "DT & ADB : Accuray score of Stacked model: 0.859\n"
          ],
          "name": "stdout"
        }
      ]
    },
    {
      "cell_type": "markdown",
      "metadata": {
        "id": "hhueIeoroFPF"
      },
      "source": [
        "**Storing the result:**"
      ]
    },
    {
      "cell_type": "code",
      "metadata": {
        "id": "pKYA9LW-l-iK"
      },
      "source": [
        "#storing the results. \n",
        "storeResults('Decision Tree & AdaBoost', acc_stackz_train, acc_stackz_test)"
      ],
      "execution_count": 642,
      "outputs": []
    },
    {
      "cell_type": "markdown",
      "metadata": {
        "id": "0fZIavtfmBUF"
      },
      "source": [
        "### **Model-6.2.5. : Random Forest and AdaBoost**"
      ]
    },
    {
      "cell_type": "code",
      "metadata": {
        "colab": {
          "base_uri": "https://localhost:8080/"
        },
        "id": "MTsfNXVZmIsM",
        "outputId": "51f49f99-d23c-40d8-bb7c-7ba7d301f345"
      },
      "source": [
        "# defining meta-classifier\n",
        "\n",
        "lrm = LogisticRegression(solver='lbfgs', max_iter=400)  \n",
        "clf_stackm = StackingClassifier(classifiers =[forest, hybrid_model_AB], meta_classifier = lrm, use_probas = True, use_features_in_secondary = True)\n",
        "\n",
        "# training of stacked model\n",
        "model_stackm = clf_stackm.fit(X_train, y_train)\n",
        "pred_stackm_train = model_stackm.predict(X_train)  \n",
        "pred_stackm_test = model_stackm.predict(X_test) \n",
        "\n",
        "#computing the accuracy of the model performance\n",
        "\n",
        "acc_stackm_train = accuracy_score(y_train, pred_stackm_train)\n",
        "acc_stackm_test =  accuracy_score(y_test, pred_stackm_test) \n",
        "\n",
        "print(\"ADB & RF : Accuray score of Stacked model: {:.3f}\".format(acc_stackz_train))\n",
        "print(\"ADB & RF : Accuray score of Stacked model: {:.3f}\".format(acc_stackz_test))"
      ],
      "execution_count": 643,
      "outputs": [
        {
          "output_type": "stream",
          "text": [
            "ADB & RF : Accuray score of Stacked model: 0.869\n",
            "ADB & RF : Accuray score of Stacked model: 0.859\n"
          ],
          "name": "stdout"
        }
      ]
    },
    {
      "cell_type": "markdown",
      "metadata": {
        "id": "HjMTHXyLoGM3"
      },
      "source": [
        "**Storing the result:**"
      ]
    },
    {
      "cell_type": "code",
      "metadata": {
        "id": "UqOtP5iwmVJj"
      },
      "source": [
        "#storing the results. \n",
        "storeResults('AdaBoost & Random Forest', acc_stackm_train, acc_stackm_test)"
      ],
      "execution_count": 644,
      "outputs": []
    },
    {
      "cell_type": "markdown",
      "metadata": {
        "id": "HJlFyP32mRqU"
      },
      "source": [
        "### **Model-6.2.6. : Decision Tree and XGBoost**"
      ]
    },
    {
      "cell_type": "code",
      "metadata": {
        "colab": {
          "base_uri": "https://localhost:8080/"
        },
        "id": "eoh6pRoOml4L",
        "outputId": "9d2e2dc7-e708-4c37-ea22-b985e95d3742"
      },
      "source": [
        "# defining meta-classifier\n",
        "\n",
        "lra = LogisticRegression(solver='lbfgs', max_iter=400)  \n",
        "clf_stacka = StackingClassifier(classifiers =[tree, xgb], meta_classifier = lra, use_probas = True, use_features_in_secondary = True)\n",
        "\n",
        "# training of stacked model\n",
        "model_stacka = clf_stacka.fit(X_train, y_train)\n",
        "pred_stacka_train = model_stacka.predict(X_train)  \n",
        "pred_stacka_test = model_stacka.predict(X_test) \n",
        "\n",
        "#computing the accuracy of the model performance\n",
        "\n",
        "acc_stacka_train = accuracy_score(y_train, pred_stacka_train)\n",
        "acc_stacka_test =  accuracy_score(y_test, pred_stacka_test) \n",
        "\n",
        "print(\"XGB & DT : Accuray score of Stacked model: {:.3f}\".format(acc_stacka_train))\n",
        "print(\"XGB & DT : Accuray score of Stacked model: {:.3f}\".format(acc_stacka_test))"
      ],
      "execution_count": 645,
      "outputs": [
        {
          "output_type": "stream",
          "text": [
            "XGB & DT : Accuray score of Stacked model: 0.869\n",
            "XGB & DT : Accuray score of Stacked model: 0.858\n"
          ],
          "name": "stdout"
        }
      ]
    },
    {
      "cell_type": "markdown",
      "metadata": {
        "id": "pT4tAxc_oHq-"
      },
      "source": [
        "**Storing the result:**"
      ]
    },
    {
      "cell_type": "code",
      "metadata": {
        "id": "V6hYsZpJmwGJ"
      },
      "source": [
        "#storing the results. \n",
        "storeResults('XGBoost & Decision Tree', acc_stacka_train, acc_stacka_test)"
      ],
      "execution_count": 646,
      "outputs": []
    },
    {
      "cell_type": "markdown",
      "metadata": {
        "id": "k7H6xUFQmysi"
      },
      "source": [
        "### **Model-6.2.7. : XGBoost and AdaBoost**"
      ]
    },
    {
      "cell_type": "code",
      "metadata": {
        "colab": {
          "base_uri": "https://localhost:8080/"
        },
        "id": "6UwmHJrFm6O5",
        "outputId": "889a69d9-cdb0-465c-f170-7fb31cc06917"
      },
      "source": [
        "# defining meta-classifier\n",
        "\n",
        "lrb = LogisticRegression(solver='lbfgs', max_iter=500)  \n",
        "clf_stackb = StackingClassifier(classifiers =[xgb, hybrid_model_AB], meta_classifier = lrb, use_probas = True, use_features_in_secondary = True)\n",
        "\n",
        "# training of stacked model\n",
        "model_stackb = clf_stackb.fit(X_train, y_train)\n",
        "pred_stackb_train = model_stackb.predict(X_train)  \n",
        "pred_stackb_test = model_stackb.predict(X_test) \n",
        "\n",
        "#computing the accuracy of the model performance\n",
        "\n",
        "acc_stackb_train = accuracy_score(y_train, pred_stackb_train)\n",
        "acc_stackb_test =  accuracy_score(y_test, pred_stackb_test) \n",
        "\n",
        "print(\"XGB & ADB : Accuray score of Stacked model: {:.3f}\".format(acc_stackb_train))\n",
        "print(\"XGB & ADB : Accuray score of Stacked model: {:.3f}\".format(acc_stackb_test))"
      ],
      "execution_count": 647,
      "outputs": [
        {
          "output_type": "stream",
          "text": [
            "XGB & ADB : Accuray score of Stacked model: 0.866\n",
            "XGB & ADB : Accuray score of Stacked model: 0.854\n"
          ],
          "name": "stdout"
        }
      ]
    },
    {
      "cell_type": "markdown",
      "metadata": {
        "id": "6e8lMwq7oJW3"
      },
      "source": [
        "**Storing the result:**"
      ]
    },
    {
      "cell_type": "code",
      "metadata": {
        "id": "_eGatwU2nCJk"
      },
      "source": [
        "#storing the results. \n",
        "storeResults('XGBoost & AdaBoost', acc_stackb_train, acc_stackb_test)"
      ],
      "execution_count": 648,
      "outputs": []
    },
    {
      "cell_type": "markdown",
      "metadata": {
        "id": "ZBJtmJtSnWO8"
      },
      "source": [
        "## **Comparison of models:**"
      ]
    },
    {
      "cell_type": "code",
      "metadata": {
        "colab": {
          "base_uri": "https://localhost:8080/",
          "height": 610
        },
        "id": "RXYdelFgnZud",
        "outputId": "80b75d2e-ead3-45d3-9c5c-3712de3fde12"
      },
      "source": [
        "#creating dataframe\n",
        "results = pd.DataFrame({ 'ML Model': ML_Model,    \n",
        "    'Train Accuracy': acc_train,\n",
        "    'Test Accuracy': acc_test})\n",
        "results"
      ],
      "execution_count": 649,
      "outputs": [
        {
          "output_type": "execute_result",
          "data": {
            "text/html": [
              "<div>\n",
              "<style scoped>\n",
              "    .dataframe tbody tr th:only-of-type {\n",
              "        vertical-align: middle;\n",
              "    }\n",
              "\n",
              "    .dataframe tbody tr th {\n",
              "        vertical-align: top;\n",
              "    }\n",
              "\n",
              "    .dataframe thead th {\n",
              "        text-align: right;\n",
              "    }\n",
              "</style>\n",
              "<table border=\"1\" class=\"dataframe\">\n",
              "  <thead>\n",
              "    <tr style=\"text-align: right;\">\n",
              "      <th></th>\n",
              "      <th>ML Model</th>\n",
              "      <th>Train Accuracy</th>\n",
              "      <th>Test Accuracy</th>\n",
              "    </tr>\n",
              "  </thead>\n",
              "  <tbody>\n",
              "    <tr>\n",
              "      <th>0</th>\n",
              "      <td>Decision Tree</td>\n",
              "      <td>0.869</td>\n",
              "      <td>0.854</td>\n",
              "    </tr>\n",
              "    <tr>\n",
              "      <th>1</th>\n",
              "      <td>Random Forest</td>\n",
              "      <td>0.869</td>\n",
              "      <td>0.852</td>\n",
              "    </tr>\n",
              "    <tr>\n",
              "      <th>2</th>\n",
              "      <td>Multilayer Perceptrons</td>\n",
              "      <td>0.864</td>\n",
              "      <td>0.848</td>\n",
              "    </tr>\n",
              "    <tr>\n",
              "      <th>3</th>\n",
              "      <td>XGBoost</td>\n",
              "      <td>0.866</td>\n",
              "      <td>0.848</td>\n",
              "    </tr>\n",
              "    <tr>\n",
              "      <th>4</th>\n",
              "      <td>AdaBoost</td>\n",
              "      <td>0.831</td>\n",
              "      <td>0.817</td>\n",
              "    </tr>\n",
              "    <tr>\n",
              "      <th>5</th>\n",
              "      <td>Gaussian Naive Bayes</td>\n",
              "      <td>0.793</td>\n",
              "      <td>0.788</td>\n",
              "    </tr>\n",
              "    <tr>\n",
              "      <th>6</th>\n",
              "      <td>SVM</td>\n",
              "      <td>0.803</td>\n",
              "      <td>0.798</td>\n",
              "    </tr>\n",
              "    <tr>\n",
              "      <th>7</th>\n",
              "      <td>RF &amp; NB</td>\n",
              "      <td>0.868</td>\n",
              "      <td>0.859</td>\n",
              "    </tr>\n",
              "    <tr>\n",
              "      <th>8</th>\n",
              "      <td>DT &amp; RF &amp; NB</td>\n",
              "      <td>0.869</td>\n",
              "      <td>0.855</td>\n",
              "    </tr>\n",
              "    <tr>\n",
              "      <th>9</th>\n",
              "      <td>MLP &amp; DT &amp; RF &amp; NB</td>\n",
              "      <td>0.868</td>\n",
              "      <td>0.858</td>\n",
              "    </tr>\n",
              "    <tr>\n",
              "      <th>10</th>\n",
              "      <td>XGB &amp; MLP &amp; DT &amp; RF &amp; NB</td>\n",
              "      <td>0.868</td>\n",
              "      <td>0.857</td>\n",
              "    </tr>\n",
              "    <tr>\n",
              "      <th>11</th>\n",
              "      <td>ADB &amp; XGB &amp; MLP &amp; DT &amp; RF &amp; NB</td>\n",
              "      <td>0.867</td>\n",
              "      <td>0.852</td>\n",
              "    </tr>\n",
              "    <tr>\n",
              "      <th>12</th>\n",
              "      <td>Random forest &amp; Naive Bayes</td>\n",
              "      <td>0.868</td>\n",
              "      <td>0.860</td>\n",
              "    </tr>\n",
              "    <tr>\n",
              "      <th>13</th>\n",
              "      <td>Decision Tree &amp; Randome Forest</td>\n",
              "      <td>0.869</td>\n",
              "      <td>0.860</td>\n",
              "    </tr>\n",
              "    <tr>\n",
              "      <th>14</th>\n",
              "      <td>XGBoost &amp; Random Forest</td>\n",
              "      <td>0.868</td>\n",
              "      <td>0.858</td>\n",
              "    </tr>\n",
              "    <tr>\n",
              "      <th>15</th>\n",
              "      <td>Decision Tree &amp; AdaBoost</td>\n",
              "      <td>0.869</td>\n",
              "      <td>0.858</td>\n",
              "    </tr>\n",
              "    <tr>\n",
              "      <th>16</th>\n",
              "      <td>AdaBoost &amp; Random Forest</td>\n",
              "      <td>0.869</td>\n",
              "      <td>0.856</td>\n",
              "    </tr>\n",
              "    <tr>\n",
              "      <th>17</th>\n",
              "      <td>XGBoost &amp; Decision Tree</td>\n",
              "      <td>0.868</td>\n",
              "      <td>0.858</td>\n",
              "    </tr>\n",
              "    <tr>\n",
              "      <th>18</th>\n",
              "      <td>XGBoost &amp; AdaBoost</td>\n",
              "      <td>0.866</td>\n",
              "      <td>0.854</td>\n",
              "    </tr>\n",
              "  </tbody>\n",
              "</table>\n",
              "</div>"
            ],
            "text/plain": [
              "                          ML Model  Train Accuracy  Test Accuracy\n",
              "0                    Decision Tree           0.869          0.854\n",
              "1                    Random Forest           0.869          0.852\n",
              "2           Multilayer Perceptrons           0.864          0.848\n",
              "3                          XGBoost           0.866          0.848\n",
              "4                         AdaBoost           0.831          0.817\n",
              "5             Gaussian Naive Bayes           0.793          0.788\n",
              "6                              SVM           0.803          0.798\n",
              "7                          RF & NB           0.868          0.859\n",
              "8                     DT & RF & NB           0.869          0.855\n",
              "9               MLP & DT & RF & NB           0.868          0.858\n",
              "10        XGB & MLP & DT & RF & NB           0.868          0.857\n",
              "11  ADB & XGB & MLP & DT & RF & NB           0.867          0.852\n",
              "12     Random forest & Naive Bayes           0.868          0.860\n",
              "13  Decision Tree & Randome Forest           0.869          0.860\n",
              "14         XGBoost & Random Forest           0.868          0.858\n",
              "15        Decision Tree & AdaBoost           0.869          0.858\n",
              "16        AdaBoost & Random Forest           0.869          0.856\n",
              "17         XGBoost & Decision Tree           0.868          0.858\n",
              "18              XGBoost & AdaBoost           0.866          0.854"
            ]
          },
          "metadata": {
            "tags": []
          },
          "execution_count": 649
        }
      ]
    },
    {
      "cell_type": "code",
      "metadata": {
        "colab": {
          "base_uri": "https://localhost:8080/",
          "height": 610
        },
        "id": "bS36R0jOnjgx",
        "outputId": "4ca50b9f-34f1-4ad8-9cc7-8755d3714f86"
      },
      "source": [
        "#Sorting the datafram on accuracy\n",
        "results.sort_values(by=['Train Accuracy'], ascending=False)"
      ],
      "execution_count": 650,
      "outputs": [
        {
          "output_type": "execute_result",
          "data": {
            "text/html": [
              "<div>\n",
              "<style scoped>\n",
              "    .dataframe tbody tr th:only-of-type {\n",
              "        vertical-align: middle;\n",
              "    }\n",
              "\n",
              "    .dataframe tbody tr th {\n",
              "        vertical-align: top;\n",
              "    }\n",
              "\n",
              "    .dataframe thead th {\n",
              "        text-align: right;\n",
              "    }\n",
              "</style>\n",
              "<table border=\"1\" class=\"dataframe\">\n",
              "  <thead>\n",
              "    <tr style=\"text-align: right;\">\n",
              "      <th></th>\n",
              "      <th>ML Model</th>\n",
              "      <th>Train Accuracy</th>\n",
              "      <th>Test Accuracy</th>\n",
              "    </tr>\n",
              "  </thead>\n",
              "  <tbody>\n",
              "    <tr>\n",
              "      <th>0</th>\n",
              "      <td>Decision Tree</td>\n",
              "      <td>0.869</td>\n",
              "      <td>0.854</td>\n",
              "    </tr>\n",
              "    <tr>\n",
              "      <th>16</th>\n",
              "      <td>AdaBoost &amp; Random Forest</td>\n",
              "      <td>0.869</td>\n",
              "      <td>0.856</td>\n",
              "    </tr>\n",
              "    <tr>\n",
              "      <th>15</th>\n",
              "      <td>Decision Tree &amp; AdaBoost</td>\n",
              "      <td>0.869</td>\n",
              "      <td>0.858</td>\n",
              "    </tr>\n",
              "    <tr>\n",
              "      <th>13</th>\n",
              "      <td>Decision Tree &amp; Randome Forest</td>\n",
              "      <td>0.869</td>\n",
              "      <td>0.860</td>\n",
              "    </tr>\n",
              "    <tr>\n",
              "      <th>8</th>\n",
              "      <td>DT &amp; RF &amp; NB</td>\n",
              "      <td>0.869</td>\n",
              "      <td>0.855</td>\n",
              "    </tr>\n",
              "    <tr>\n",
              "      <th>1</th>\n",
              "      <td>Random Forest</td>\n",
              "      <td>0.869</td>\n",
              "      <td>0.852</td>\n",
              "    </tr>\n",
              "    <tr>\n",
              "      <th>10</th>\n",
              "      <td>XGB &amp; MLP &amp; DT &amp; RF &amp; NB</td>\n",
              "      <td>0.868</td>\n",
              "      <td>0.857</td>\n",
              "    </tr>\n",
              "    <tr>\n",
              "      <th>17</th>\n",
              "      <td>XGBoost &amp; Decision Tree</td>\n",
              "      <td>0.868</td>\n",
              "      <td>0.858</td>\n",
              "    </tr>\n",
              "    <tr>\n",
              "      <th>14</th>\n",
              "      <td>XGBoost &amp; Random Forest</td>\n",
              "      <td>0.868</td>\n",
              "      <td>0.858</td>\n",
              "    </tr>\n",
              "    <tr>\n",
              "      <th>12</th>\n",
              "      <td>Random forest &amp; Naive Bayes</td>\n",
              "      <td>0.868</td>\n",
              "      <td>0.860</td>\n",
              "    </tr>\n",
              "    <tr>\n",
              "      <th>9</th>\n",
              "      <td>MLP &amp; DT &amp; RF &amp; NB</td>\n",
              "      <td>0.868</td>\n",
              "      <td>0.858</td>\n",
              "    </tr>\n",
              "    <tr>\n",
              "      <th>7</th>\n",
              "      <td>RF &amp; NB</td>\n",
              "      <td>0.868</td>\n",
              "      <td>0.859</td>\n",
              "    </tr>\n",
              "    <tr>\n",
              "      <th>11</th>\n",
              "      <td>ADB &amp; XGB &amp; MLP &amp; DT &amp; RF &amp; NB</td>\n",
              "      <td>0.867</td>\n",
              "      <td>0.852</td>\n",
              "    </tr>\n",
              "    <tr>\n",
              "      <th>3</th>\n",
              "      <td>XGBoost</td>\n",
              "      <td>0.866</td>\n",
              "      <td>0.848</td>\n",
              "    </tr>\n",
              "    <tr>\n",
              "      <th>18</th>\n",
              "      <td>XGBoost &amp; AdaBoost</td>\n",
              "      <td>0.866</td>\n",
              "      <td>0.854</td>\n",
              "    </tr>\n",
              "    <tr>\n",
              "      <th>2</th>\n",
              "      <td>Multilayer Perceptrons</td>\n",
              "      <td>0.864</td>\n",
              "      <td>0.848</td>\n",
              "    </tr>\n",
              "    <tr>\n",
              "      <th>4</th>\n",
              "      <td>AdaBoost</td>\n",
              "      <td>0.831</td>\n",
              "      <td>0.817</td>\n",
              "    </tr>\n",
              "    <tr>\n",
              "      <th>6</th>\n",
              "      <td>SVM</td>\n",
              "      <td>0.803</td>\n",
              "      <td>0.798</td>\n",
              "    </tr>\n",
              "    <tr>\n",
              "      <th>5</th>\n",
              "      <td>Gaussian Naive Bayes</td>\n",
              "      <td>0.793</td>\n",
              "      <td>0.788</td>\n",
              "    </tr>\n",
              "  </tbody>\n",
              "</table>\n",
              "</div>"
            ],
            "text/plain": [
              "                          ML Model  Train Accuracy  Test Accuracy\n",
              "0                    Decision Tree           0.869          0.854\n",
              "16        AdaBoost & Random Forest           0.869          0.856\n",
              "15        Decision Tree & AdaBoost           0.869          0.858\n",
              "13  Decision Tree & Randome Forest           0.869          0.860\n",
              "8                     DT & RF & NB           0.869          0.855\n",
              "1                    Random Forest           0.869          0.852\n",
              "10        XGB & MLP & DT & RF & NB           0.868          0.857\n",
              "17         XGBoost & Decision Tree           0.868          0.858\n",
              "14         XGBoost & Random Forest           0.868          0.858\n",
              "12     Random forest & Naive Bayes           0.868          0.860\n",
              "9               MLP & DT & RF & NB           0.868          0.858\n",
              "7                          RF & NB           0.868          0.859\n",
              "11  ADB & XGB & MLP & DT & RF & NB           0.867          0.852\n",
              "3                          XGBoost           0.866          0.848\n",
              "18              XGBoost & AdaBoost           0.866          0.854\n",
              "2           Multilayer Perceptrons           0.864          0.848\n",
              "4                         AdaBoost           0.831          0.817\n",
              "6                              SVM           0.803          0.798\n",
              "5             Gaussian Naive Bayes           0.793          0.788"
            ]
          },
          "metadata": {
            "tags": []
          },
          "execution_count": 650
        }
      ]
    },
    {
      "cell_type": "code",
      "metadata": {
        "colab": {
          "base_uri": "https://localhost:8080/",
          "height": 610
        },
        "id": "B9QMFmXGnpes",
        "outputId": "4e8b8f17-8605-426a-9148-ae84d2779a10"
      },
      "source": [
        "#Sorting the datafram on accuracy\n",
        "results.sort_values(by=['Test Accuracy'], ascending=False)"
      ],
      "execution_count": 651,
      "outputs": [
        {
          "output_type": "execute_result",
          "data": {
            "text/html": [
              "<div>\n",
              "<style scoped>\n",
              "    .dataframe tbody tr th:only-of-type {\n",
              "        vertical-align: middle;\n",
              "    }\n",
              "\n",
              "    .dataframe tbody tr th {\n",
              "        vertical-align: top;\n",
              "    }\n",
              "\n",
              "    .dataframe thead th {\n",
              "        text-align: right;\n",
              "    }\n",
              "</style>\n",
              "<table border=\"1\" class=\"dataframe\">\n",
              "  <thead>\n",
              "    <tr style=\"text-align: right;\">\n",
              "      <th></th>\n",
              "      <th>ML Model</th>\n",
              "      <th>Train Accuracy</th>\n",
              "      <th>Test Accuracy</th>\n",
              "    </tr>\n",
              "  </thead>\n",
              "  <tbody>\n",
              "    <tr>\n",
              "      <th>13</th>\n",
              "      <td>Decision Tree &amp; Randome Forest</td>\n",
              "      <td>0.869</td>\n",
              "      <td>0.860</td>\n",
              "    </tr>\n",
              "    <tr>\n",
              "      <th>12</th>\n",
              "      <td>Random forest &amp; Naive Bayes</td>\n",
              "      <td>0.868</td>\n",
              "      <td>0.860</td>\n",
              "    </tr>\n",
              "    <tr>\n",
              "      <th>7</th>\n",
              "      <td>RF &amp; NB</td>\n",
              "      <td>0.868</td>\n",
              "      <td>0.859</td>\n",
              "    </tr>\n",
              "    <tr>\n",
              "      <th>9</th>\n",
              "      <td>MLP &amp; DT &amp; RF &amp; NB</td>\n",
              "      <td>0.868</td>\n",
              "      <td>0.858</td>\n",
              "    </tr>\n",
              "    <tr>\n",
              "      <th>17</th>\n",
              "      <td>XGBoost &amp; Decision Tree</td>\n",
              "      <td>0.868</td>\n",
              "      <td>0.858</td>\n",
              "    </tr>\n",
              "    <tr>\n",
              "      <th>15</th>\n",
              "      <td>Decision Tree &amp; AdaBoost</td>\n",
              "      <td>0.869</td>\n",
              "      <td>0.858</td>\n",
              "    </tr>\n",
              "    <tr>\n",
              "      <th>14</th>\n",
              "      <td>XGBoost &amp; Random Forest</td>\n",
              "      <td>0.868</td>\n",
              "      <td>0.858</td>\n",
              "    </tr>\n",
              "    <tr>\n",
              "      <th>10</th>\n",
              "      <td>XGB &amp; MLP &amp; DT &amp; RF &amp; NB</td>\n",
              "      <td>0.868</td>\n",
              "      <td>0.857</td>\n",
              "    </tr>\n",
              "    <tr>\n",
              "      <th>16</th>\n",
              "      <td>AdaBoost &amp; Random Forest</td>\n",
              "      <td>0.869</td>\n",
              "      <td>0.856</td>\n",
              "    </tr>\n",
              "    <tr>\n",
              "      <th>8</th>\n",
              "      <td>DT &amp; RF &amp; NB</td>\n",
              "      <td>0.869</td>\n",
              "      <td>0.855</td>\n",
              "    </tr>\n",
              "    <tr>\n",
              "      <th>0</th>\n",
              "      <td>Decision Tree</td>\n",
              "      <td>0.869</td>\n",
              "      <td>0.854</td>\n",
              "    </tr>\n",
              "    <tr>\n",
              "      <th>18</th>\n",
              "      <td>XGBoost &amp; AdaBoost</td>\n",
              "      <td>0.866</td>\n",
              "      <td>0.854</td>\n",
              "    </tr>\n",
              "    <tr>\n",
              "      <th>11</th>\n",
              "      <td>ADB &amp; XGB &amp; MLP &amp; DT &amp; RF &amp; NB</td>\n",
              "      <td>0.867</td>\n",
              "      <td>0.852</td>\n",
              "    </tr>\n",
              "    <tr>\n",
              "      <th>1</th>\n",
              "      <td>Random Forest</td>\n",
              "      <td>0.869</td>\n",
              "      <td>0.852</td>\n",
              "    </tr>\n",
              "    <tr>\n",
              "      <th>3</th>\n",
              "      <td>XGBoost</td>\n",
              "      <td>0.866</td>\n",
              "      <td>0.848</td>\n",
              "    </tr>\n",
              "    <tr>\n",
              "      <th>2</th>\n",
              "      <td>Multilayer Perceptrons</td>\n",
              "      <td>0.864</td>\n",
              "      <td>0.848</td>\n",
              "    </tr>\n",
              "    <tr>\n",
              "      <th>4</th>\n",
              "      <td>AdaBoost</td>\n",
              "      <td>0.831</td>\n",
              "      <td>0.817</td>\n",
              "    </tr>\n",
              "    <tr>\n",
              "      <th>6</th>\n",
              "      <td>SVM</td>\n",
              "      <td>0.803</td>\n",
              "      <td>0.798</td>\n",
              "    </tr>\n",
              "    <tr>\n",
              "      <th>5</th>\n",
              "      <td>Gaussian Naive Bayes</td>\n",
              "      <td>0.793</td>\n",
              "      <td>0.788</td>\n",
              "    </tr>\n",
              "  </tbody>\n",
              "</table>\n",
              "</div>"
            ],
            "text/plain": [
              "                          ML Model  Train Accuracy  Test Accuracy\n",
              "13  Decision Tree & Randome Forest           0.869          0.860\n",
              "12     Random forest & Naive Bayes           0.868          0.860\n",
              "7                          RF & NB           0.868          0.859\n",
              "9               MLP & DT & RF & NB           0.868          0.858\n",
              "17         XGBoost & Decision Tree           0.868          0.858\n",
              "15        Decision Tree & AdaBoost           0.869          0.858\n",
              "14         XGBoost & Random Forest           0.868          0.858\n",
              "10        XGB & MLP & DT & RF & NB           0.868          0.857\n",
              "16        AdaBoost & Random Forest           0.869          0.856\n",
              "8                     DT & RF & NB           0.869          0.855\n",
              "0                    Decision Tree           0.869          0.854\n",
              "18              XGBoost & AdaBoost           0.866          0.854\n",
              "11  ADB & XGB & MLP & DT & RF & NB           0.867          0.852\n",
              "1                    Random Forest           0.869          0.852\n",
              "3                          XGBoost           0.866          0.848\n",
              "2           Multilayer Perceptrons           0.864          0.848\n",
              "4                         AdaBoost           0.831          0.817\n",
              "6                              SVM           0.803          0.798\n",
              "5             Gaussian Naive Bayes           0.793          0.788"
            ]
          },
          "metadata": {
            "tags": []
          },
          "execution_count": 651
        }
      ]
    },
    {
      "cell_type": "code",
      "metadata": {
        "id": "W4N82dPiETxB"
      },
      "source": [
        "from urllib.parse import urlparse,urlencode\n",
        "import ipaddress\n",
        "import re\n",
        "\n",
        "# 1.Domain of the URL (Domain) \n",
        "def getDomain(url):  \n",
        "  domain = urlparse(url).netloc\n",
        "  if re.match(r\"^www.\",domain):\n",
        "\t       domain = domain.replace(\"www.\",\"\")\n",
        "  return domain"
      ],
      "execution_count": 652,
      "outputs": []
    },
    {
      "cell_type": "code",
      "metadata": {
        "id": "OiKyyXOKEjcF"
      },
      "source": [
        "# 2.Checks for IP address in URL (Have_IP)\n",
        "def havingIP(url):\n",
        "  try:\n",
        "    ipaddress.ip_address(url)\n",
        "    ip = 1\n",
        "  except:\n",
        "    ip = 0\n",
        "  return ip"
      ],
      "execution_count": 653,
      "outputs": []
    },
    {
      "cell_type": "code",
      "metadata": {
        "id": "YOwLbCJcElls"
      },
      "source": [
        "# 3.Checks the presence of @ in URL (Have_At)\n",
        "def haveAtSign(url):\n",
        "  if \"@\" in url:\n",
        "    at = 1    \n",
        "  else:\n",
        "    at = 0    \n",
        "  return at"
      ],
      "execution_count": 654,
      "outputs": []
    },
    {
      "cell_type": "code",
      "metadata": {
        "id": "FE5sfc32EoBr"
      },
      "source": [
        "# 4.Finding the length of URL and categorizing (URL_Length)\n",
        "def getLength(url):\n",
        "  if len(url) < 54:\n",
        "    length = 0            \n",
        "  else:\n",
        "    length = 1            \n",
        "  return length"
      ],
      "execution_count": 655,
      "outputs": []
    },
    {
      "cell_type": "code",
      "metadata": {
        "id": "JrJS_SoIEqCq"
      },
      "source": [
        "# 5.Gives number of '/' in URL (URL_Depth)\n",
        "def getDepth(url):\n",
        "  s = urlparse(url).path.split('/')\n",
        "  depth = 0\n",
        "  for j in range(len(s)):\n",
        "    if len(s[j]) != 0:\n",
        "      depth = depth+1\n",
        "  return depth"
      ],
      "execution_count": 656,
      "outputs": []
    },
    {
      "cell_type": "code",
      "metadata": {
        "id": "Y0kX0j4lEsJm"
      },
      "source": [
        "# 6.Checking for redirection '//' in the url (Redirection)\n",
        "def redirection(url):\n",
        "  pos = url.rfind('//')\n",
        "  if pos > 6:\n",
        "    if pos > 7:\n",
        "      return 1\n",
        "    else:\n",
        "      return 0\n",
        "  else:\n",
        "    return 0"
      ],
      "execution_count": 657,
      "outputs": []
    },
    {
      "cell_type": "code",
      "metadata": {
        "id": "pS0BTrOXEuem"
      },
      "source": [
        "# 7.Existence of “HTTPS” Token in the Domain Part of the URL (https_Domain)\n",
        "def httpDomain(url):\n",
        "  domain = urlparse(url).netloc\n",
        "  if 'https' in domain:\n",
        "    return 1\n",
        "  else:\n",
        "    return 0"
      ],
      "execution_count": 658,
      "outputs": []
    },
    {
      "cell_type": "code",
      "metadata": {
        "id": "twAK6N7oEwjD"
      },
      "source": [
        "#listing shortening services\n",
        "shortening_services = r\"bit\\.ly|goo\\.gl|shorte\\.st|go2l\\.ink|x\\.co|ow\\.ly|t\\.co|tinyurl|tr\\.im|is\\.gd|cli\\.gs|\" \\\n",
        "                      r\"yfrog\\.com|migre\\.me|ff\\.im|tiny\\.cc|url4\\.eu|twit\\.ac|su\\.pr|twurl\\.nl|snipurl\\.com|\" \\\n",
        "                      r\"short\\.to|BudURL\\.com|ping\\.fm|post\\.ly|Just\\.as|bkite\\.com|snipr\\.com|fic\\.kr|loopt\\.us|\" \\\n",
        "                      r\"doiop\\.com|short\\.ie|kl\\.am|wp\\.me|rubyurl\\.com|om\\.ly|to\\.ly|bit\\.do|t\\.co|lnkd\\.in|db\\.tt|\" \\\n",
        "                      r\"qr\\.ae|adf\\.ly|goo\\.gl|bitly\\.com|cur\\.lv|tinyurl\\.com|ow\\.ly|bit\\.ly|ity\\.im|q\\.gs|is\\.gd|\" \\\n",
        "                      r\"po\\.st|bc\\.vc|twitthis\\.com|u\\.to|j\\.mp|buzurl\\.com|cutt\\.us|u\\.bb|yourls\\.org|x\\.co|\" \\\n",
        "                      r\"prettylinkpro\\.com|scrnch\\.me|filoops\\.info|vzturl\\.com|qr\\.net|1url\\.com|tweez\\.me|v\\.gd|\" \\\n",
        "                      r\"tr\\.im|link\\.zip\\.net\""
      ],
      "execution_count": 659,
      "outputs": []
    },
    {
      "cell_type": "code",
      "metadata": {
        "id": "1xn3yTNPEzts"
      },
      "source": [
        "# 8. Checking for Shortening Services in URL (Tiny_URL)\n",
        "def tinyURL(url):\n",
        "    match=re.search(shortening_services,url)\n",
        "    if match:\n",
        "        return 1\n",
        "    else:\n",
        "        return 0"
      ],
      "execution_count": 660,
      "outputs": []
    },
    {
      "cell_type": "code",
      "metadata": {
        "id": "ylrLV-u_E2Df"
      },
      "source": [
        "# 9.Checking for Prefix or Suffix Separated by (-) in the Domain (Prefix/Suffix)\n",
        "def prefixSuffix(url):\n",
        "    if '-' in urlparse(url).netloc:\n",
        "        return 1            # phishing\n",
        "    else:\n",
        "        return 0            # legitimate"
      ],
      "execution_count": 661,
      "outputs": []
    },
    {
      "cell_type": "code",
      "metadata": {
        "id": "Vb-sV4FTE4cD"
      },
      "source": [
        "import re\n",
        "from bs4 import BeautifulSoup\n",
        "#import whois\n",
        "import urllib\n",
        "import urllib.request\n",
        "from datetime import datetime"
      ],
      "execution_count": 662,
      "outputs": []
    },
    {
      "cell_type": "code",
      "metadata": {
        "colab": {
          "base_uri": "https://localhost:8080/"
        },
        "id": "SuVCNAkRE6iH",
        "outputId": "68d84957-81f8-4c0c-85f6-14c61c78a527"
      },
      "source": [
        "!pip install python-whois"
      ],
      "execution_count": 663,
      "outputs": [
        {
          "output_type": "stream",
          "text": [
            "Requirement already satisfied: python-whois in /usr/local/lib/python3.7/dist-packages (0.7.3)\n",
            "Requirement already satisfied: future in /usr/local/lib/python3.7/dist-packages (from python-whois) (0.16.0)\n"
          ],
          "name": "stdout"
        }
      ]
    },
    {
      "cell_type": "code",
      "metadata": {
        "id": "US20vRT6E8GW"
      },
      "source": [
        "import whois"
      ],
      "execution_count": 664,
      "outputs": []
    },
    {
      "cell_type": "code",
      "metadata": {
        "id": "eJgH4l_jH_VG"
      },
      "source": [
        "# 10.Web traffic (Web_Traffic)\n",
        "def web_traffic(url):\n",
        "  try:\n",
        "    #Filling the whitespaces in the URL if any\n",
        "    url = urllib.parse.quote(url)\n",
        "    rank = BeautifulSoup(urllib.request.urlopen(\"http://data.alexa.com/data?cli=10&dat=s&url=\" + url).read(), \"xml\").find(\n",
        "        \"REACH\")['RANK']\n",
        "    rank = int(rank)\n",
        "  except TypeError:\n",
        "        return 1\n",
        "  if rank <100000:\n",
        "    return 1\n",
        "  else:\n",
        "    return 0"
      ],
      "execution_count": 665,
      "outputs": []
    },
    {
      "cell_type": "code",
      "metadata": {
        "id": "9JKa3bfLE_eL"
      },
      "source": [
        "# 11.Survival time of domain: The difference between termination time and creation time (Domain_Age)  \n",
        "def domainAge(domain_name):\n",
        "  creation_date = domain_name.creation_date\n",
        "  expiration_date = domain_name.expiration_date\n",
        "  if (isinstance(creation_date,str) or isinstance(expiration_date,str)):\n",
        "    try:\n",
        "      creation_date = datetime.strptime(creation_date,'%Y-%m-%d')\n",
        "      expiration_date = datetime.strptime(expiration_date,\"%Y-%m-%d\")\n",
        "    except:\n",
        "      return 1\n",
        "  if ((expiration_date is None) or (creation_date is None)):\n",
        "      return 1\n",
        "  elif ((type(expiration_date) is list) or (type(creation_date) is list)):\n",
        "      return 1\n",
        "  else:\n",
        "    ageofdomain = abs((expiration_date - creation_date).days)\n",
        "    if ((ageofdomain/30) < 6):\n",
        "      age = 1\n",
        "    else:\n",
        "      age = 0\n",
        "  return age"
      ],
      "execution_count": 666,
      "outputs": []
    },
    {
      "cell_type": "code",
      "metadata": {
        "id": "5UXb4Mi6FBuu"
      },
      "source": [
        "# 12.End time of domain: The difference between termination time and current time (Domain_End) \n",
        "def domainEnd(domain_name):\n",
        "  expiration_date = domain_name.expiration_date\n",
        "  if isinstance(expiration_date,str):\n",
        "    try:\n",
        "      expiration_date = datetime.strptime(expiration_date,\"%Y-%m-%d\")\n",
        "    except:\n",
        "      return 1\n",
        "  if (expiration_date is None):\n",
        "      return 1\n",
        "  elif (type(expiration_date) is list):\n",
        "      return 1\n",
        "  else:\n",
        "    today = datetime.now()\n",
        "    end = abs((expiration_date - today).days)\n",
        "    if ((end/30) < 6):\n",
        "      end = 0\n",
        "    else:\n",
        "      end = 1\n",
        "  return end"
      ],
      "execution_count": 667,
      "outputs": []
    },
    {
      "cell_type": "code",
      "metadata": {
        "id": "AdGMAgD0FEOx"
      },
      "source": [
        "import requests"
      ],
      "execution_count": 668,
      "outputs": []
    },
    {
      "cell_type": "code",
      "metadata": {
        "id": "jUMQfR6SFHI6"
      },
      "source": [
        "# 13. IFrame Redirection (iFrame)\n",
        "def iframe(response):\n",
        "  if response == \"\":\n",
        "      return 1\n",
        "  else:\n",
        "      if re.findall(r\"[<iframe>|<frameBorder>]\", response.text):\n",
        "          return 0\n",
        "      else:\n",
        "          return 1"
      ],
      "execution_count": 669,
      "outputs": []
    },
    {
      "cell_type": "code",
      "metadata": {
        "id": "N-yIFxPYFJqr"
      },
      "source": [
        "def mouseOver(response): \n",
        "  if response == \"\" :\n",
        "    return 1\n",
        "  else:\n",
        "    if re.findall(\"<script>.+onmouseover.+</script>\", response.text):\n",
        "      return 1\n",
        "    else:\n",
        "      return 0"
      ],
      "execution_count": 670,
      "outputs": []
    },
    {
      "cell_type": "code",
      "metadata": {
        "id": "92SpoSdbFLgj"
      },
      "source": [
        "# 15.Checks the status of the right click attribute (Right_Click)\n",
        "def rightClick(response):\n",
        "  if response == \"\":\n",
        "    return 1\n",
        "  else:\n",
        "    if re.findall(r\"event.button ?== ?2\", response.text):\n",
        "      return 0\n",
        "    else:\n",
        "      return 1"
      ],
      "execution_count": 671,
      "outputs": []
    },
    {
      "cell_type": "code",
      "metadata": {
        "id": "eQ8MWKjmFNWa"
      },
      "source": [
        "# 16.Checks the number of forwardings (Web_Forwards)    \n",
        "def forwarding(response):\n",
        "  if response == \"\":\n",
        "    return 1\n",
        "  else:\n",
        "    if len(response.history) <= 2:\n",
        "      return 0\n",
        "    else:\n",
        "      return 1"
      ],
      "execution_count": 672,
      "outputs": []
    },
    {
      "cell_type": "code",
      "metadata": {
        "id": "gRgIbQ3WFRcw"
      },
      "source": [
        "#Function to extract features\n",
        "def featureExtraction(url):\n",
        "\n",
        "  features = []\n",
        "  #Address bar based features (10)\n",
        "  features.append(getDomain(url))\n",
        "  features.append(havingIP(url))\n",
        "  features.append(haveAtSign(url))\n",
        "  features.append(getLength(url))\n",
        "  features.append(getDepth(url))\n",
        "  features.append(redirection(url))\n",
        "  features.append(httpDomain(url))\n",
        "  features.append(tinyURL(url))\n",
        "  features.append(prefixSuffix(url))\n",
        "  \n",
        "  #Domain based features (4)\n",
        "  dns = 0\n",
        "  try:\n",
        "    domain_name = whois.whois(urlparse(url).netloc)\n",
        "  except:\n",
        "    dns = 1\n",
        "\n",
        "  features.append(dns)\n",
        "  features.append(web_traffic(url))\n",
        "  features.append(1 if dns == 1 else domainAge(domain_name))\n",
        "  features.append(1 if dns == 1 else domainEnd(domain_name))\n",
        "  \n",
        "  # HTML & Javascript based features\n",
        "  try:\n",
        "    response = requests.get(url)\n",
        "  except:\n",
        "    response = \"\"\n",
        "\n",
        "  features.append(iframe(response))\n",
        "  features.append(mouseOver(response))\n",
        "  features.append(rightClick(response))\n",
        "  features.append(forwarding(response))\n",
        "  \n",
        "  return features"
      ],
      "execution_count": 673,
      "outputs": []
    },
    {
      "cell_type": "code",
      "metadata": {
        "id": "vQwywO2qIDmT"
      },
      "source": [
        "import pandas as pd"
      ],
      "execution_count": 674,
      "outputs": []
    },
    {
      "cell_type": "code",
      "metadata": {
        "colab": {
          "base_uri": "https://localhost:8080/",
          "height": 97
        },
        "id": "KutytkmhIGZv",
        "outputId": "9a1806c1-7ccd-4de2-a79d-02323eab5bd9"
      },
      "source": [
        "feature_names = ['Domain', 'Have_IP', 'Have_At', 'URL_Length', 'URL_Depth','Redirection', \n",
        "                      'https_Domain', 'TinyURL', 'Prefix/Suffix', 'DNS_Record', 'Web_Traffic', \n",
        "                      'Domain_Age', 'Domain_End', 'iFrame', 'Mouse_Over','Right_Click', 'Web_Forwards']\n",
        "test_url = []\n",
        "tt_url = 'https://www.google.com'\n",
        "test_url.append(featureExtraction(tt_url))\n",
        "\n",
        "tested = pd.DataFrame(test_url,columns = feature_names)\n",
        "testt = tested.drop(['Domain'], axis = 1).copy()\n",
        "testt.head()"
      ],
      "execution_count": 675,
      "outputs": [
        {
          "output_type": "execute_result",
          "data": {
            "text/html": [
              "<div>\n",
              "<style scoped>\n",
              "    .dataframe tbody tr th:only-of-type {\n",
              "        vertical-align: middle;\n",
              "    }\n",
              "\n",
              "    .dataframe tbody tr th {\n",
              "        vertical-align: top;\n",
              "    }\n",
              "\n",
              "    .dataframe thead th {\n",
              "        text-align: right;\n",
              "    }\n",
              "</style>\n",
              "<table border=\"1\" class=\"dataframe\">\n",
              "  <thead>\n",
              "    <tr style=\"text-align: right;\">\n",
              "      <th></th>\n",
              "      <th>Have_IP</th>\n",
              "      <th>Have_At</th>\n",
              "      <th>URL_Length</th>\n",
              "      <th>URL_Depth</th>\n",
              "      <th>Redirection</th>\n",
              "      <th>https_Domain</th>\n",
              "      <th>TinyURL</th>\n",
              "      <th>Prefix/Suffix</th>\n",
              "      <th>DNS_Record</th>\n",
              "      <th>Web_Traffic</th>\n",
              "      <th>Domain_Age</th>\n",
              "      <th>Domain_End</th>\n",
              "      <th>iFrame</th>\n",
              "      <th>Mouse_Over</th>\n",
              "      <th>Right_Click</th>\n",
              "      <th>Web_Forwards</th>\n",
              "    </tr>\n",
              "  </thead>\n",
              "  <tbody>\n",
              "    <tr>\n",
              "      <th>0</th>\n",
              "      <td>0</td>\n",
              "      <td>0</td>\n",
              "      <td>0</td>\n",
              "      <td>0</td>\n",
              "      <td>0</td>\n",
              "      <td>0</td>\n",
              "      <td>0</td>\n",
              "      <td>0</td>\n",
              "      <td>0</td>\n",
              "      <td>1</td>\n",
              "      <td>1</td>\n",
              "      <td>1</td>\n",
              "      <td>0</td>\n",
              "      <td>0</td>\n",
              "      <td>1</td>\n",
              "      <td>0</td>\n",
              "    </tr>\n",
              "  </tbody>\n",
              "</table>\n",
              "</div>"
            ],
            "text/plain": [
              "   Have_IP  Have_At  URL_Length  ...  Mouse_Over  Right_Click  Web_Forwards\n",
              "0        0        0           0  ...           0            1             0\n",
              "\n",
              "[1 rows x 16 columns]"
            ]
          },
          "metadata": {
            "tags": []
          },
          "execution_count": 675
        }
      ]
    },
    {
      "cell_type": "code",
      "metadata": {
        "colab": {
          "base_uri": "https://localhost:8080/"
        },
        "id": "AzmfThZLIJPA",
        "outputId": "474f60c6-dc02-4f9f-f776-f8e20f099506"
      },
      "source": [
        "answer = forest.predict(testt)\n",
        "print(answer)\n",
        "\n",
        "answera = tree.predict(testt)\n",
        "print(answera)\n",
        "\n",
        "answerb = mlp.predict(testt)\n",
        "print(answerb)\n",
        "\n",
        "answerc = xgb.predict(testt)\n",
        "print(answerc)\n",
        "\n",
        "answerd = hybrid_model_AB.predict(testt)\n",
        "print(answerd)\n",
        "\n",
        "answere = gnb.predict(testt)\n",
        "print(answere)\n",
        "\n",
        "answerh = svm.predict(testt)\n",
        "print(answerh)\n",
        "\n",
        "answer1 = model_stackm.predict(testt)\n",
        "print(answer1)\n",
        "\n",
        "answer2 = model_stackx.predict(testt)\n",
        "print(answer2)\n",
        "\n",
        "answer3 = model_stacky.predict(testt)\n",
        "print(answer3)\n",
        "\n",
        "answer4 = model_stackz.predict(testt)\n",
        "print(answer4)\n",
        "\n",
        "answer5 = model_stacka.predict(testt)\n",
        "print(answer5)\n",
        "\n",
        "answer6 = model_stackb.predict(testt)\n",
        "print(answer6)"
      ],
      "execution_count": 676,
      "outputs": [
        {
          "output_type": "stream",
          "text": [
            "[1]\n",
            "[1]\n",
            "[1]\n",
            "[1]\n",
            "[1]\n",
            "[1]\n",
            "[1]\n",
            "[1]\n",
            "[1]\n",
            "[1]\n",
            "[1]\n",
            "[1]\n",
            "[1]\n"
          ],
          "name": "stdout"
        }
      ]
    }
  ]
}